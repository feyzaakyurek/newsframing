{
 "cells": [
  {
   "cell_type": "code",
   "execution_count": 1,
   "metadata": {},
   "outputs": [],
   "source": [
    "import pandas as pd\n",
    "import numpy as np\n",
    "from sklearn import metrics\n",
    "import pickle\n",
    "import seaborn as sns\n",
    "import matplotlib.pyplot as plt\n",
    "from sklearn.preprocessing import label_binarize\n",
    "import os"
   ]
  },
  {
   "cell_type": "code",
   "execution_count": 2,
   "metadata": {},
   "outputs": [],
   "source": [
    "# FIND THE THRESHOLD\n",
    "def get_thres_fold(gold_labels_train_folds, results_softmax, folds=5):\n",
    "    T = np.arange(0,1,step=0.001)\n",
    "    optimal_t = np.zeros(5) # t[i] is the optimal t for fold i\n",
    "    for i in range(folds):\n",
    "        gold_labels = gold_labels_train_folds[i]\n",
    "        train_size = len(gold_labels_train_folds[i])\n",
    "        LCard_train = gold_labels_train_folds[i].to_numpy().sum()/train_size\n",
    "\n",
    "        test_size = results_softmax[i].shape[0]\n",
    "        diff = np.zeros_like(T) # to store differences of label cardinalities\n",
    "        for (j,t) in enumerate(T):\n",
    "            binary_df_pred = results_softmax[i]>t\n",
    "            LCard_test = binary_df_pred.sum()/test_size\n",
    "            diff[j] = np.abs(LCard_train - LCard_test)\n",
    "\n",
    "        optimal_t[i] = T[np.argmin(diff)]\n",
    "    return optimal_t"
   ]
  },
  {
   "cell_type": "code",
   "execution_count": 3,
   "metadata": {},
   "outputs": [],
   "source": [
    "# FIND THE THRESHOLD\n",
    "def get_thres_fold_frame(gold_labels_train_folds, results_softmax, folds=5):\n",
    "    T = np.arange(0,1,step=0.001)\n",
    "    optimal_t = np.zeros((folds,9)) # t[i] is the optimal t for fold i\n",
    "    for i in range(folds):\n",
    "        gold_labels = gold_labels_train_folds[i]\n",
    "        gold_labels.columns = [str(f+1) for f in np.arange(9)]\n",
    "        train_size = len(gold_labels_train_folds[i])\n",
    "        LCard_train_frames = gold_labels.sum(axis=0)/train_size\n",
    "\n",
    "        test_size = results_softmax[i].shape[0]\n",
    "        for fold in range(9):\n",
    "            fold_preds = results_softmax[i][:,fold]\n",
    "            diff = np.zeros_like(T) # to store differences of label cardinalities\n",
    "            for (j,t) in enumerate(T):\n",
    "                binary_df_pred = fold_preds>t\n",
    "                LCard_test = binary_df_pred.sum()/test_size\n",
    "                diff[j] = np.abs(LCard_train_frames[fold] - LCard_test)\n",
    "\n",
    "            optimal_t[i,fold] = T[np.argmin(diff)]\n",
    "\n",
    "    return optimal_t"
   ]
  },
  {
   "cell_type": "code",
   "execution_count": 4,
   "metadata": {
    "scrolled": true
   },
   "outputs": [],
   "source": [
    "def plot_diff_by_thres(diff, T):\n",
    "    df = pd.DataFrame({\"Thresholds\":T, \"LCard(train) - LCard(Test)_t\":diff})\n",
    "    lineplt = sns.lmplot(\"Thresholds\", \"LCard(train) - LCard(Test)_t\",data=df, fit_reg=False)\n",
    "    # Access the Figure\n",
    "    fig = lineplt.fig \n",
    "    # Add a title to the Figure\n",
    "    fig.suptitle('Absolute diffs of average train and test cardinalities, last fold', fontsize=12)\n",
    "    # Show the plot\n",
    "    plt.show()"
   ]
  },
  {
   "cell_type": "code",
   "execution_count": 5,
   "metadata": {
    "scrolled": true
   },
   "outputs": [],
   "source": [
    "def get_metrics(optimal_t, results, gold_labels_test_folds, multiclass=False, folds=5):\n",
    "    metrics_folds = {}\n",
    "    \n",
    "    # if multiclass this part is for finding accuracy for the samples that have indeed a single frame\n",
    "    # so even we're computing metrics for multiclass we have to retrieve the gold labels from the \n",
    "    # dataset which includes second labels as well, if available\n",
    "    if multiclass:\n",
    "        multilabeled_gold = get_gold_labels(False, None, \"dataset\", german=False)\n",
    "    \n",
    "    \n",
    "    for i in range(folds):\n",
    "        \n",
    "        # gold labels for the fold in label indicator format\n",
    "        gold_labels = gold_labels_test_folds[i]\n",
    "        size = len(gold_labels)\n",
    "#         print(gold_labels)\n",
    "        if multiclass:\n",
    "             # create binary results for f1 scores\n",
    "            binary_df_pred = results[i] > 0 \n",
    "        else:\n",
    "             # create binary results for f1 scores\n",
    "            binary_df_pred = results[i] > optimal_t[i]\n",
    "#             print(results[i])\n",
    "        # eliminate frames which either never predicted or never occurred\n",
    "        never_predicted = np.where(binary_df_pred.sum(axis=0)==0)[0]\n",
    "#         print(\"never_predicted_frames: \", never_predicted)\n",
    "\n",
    "        # eliminate frames which never occured\n",
    "        never_occurred = np.where(gold_labels.sum(axis=0)==0)[0]\n",
    "#         print(\"never_occurred_frames: \", never_occurred)\n",
    "\n",
    "        label_indices = np.setdiff1d(np.arange(9), np.union1d(never_occurred, never_predicted))\n",
    "#         print(\"selected_label_indices: \", label_indices)\n",
    "\n",
    "        gold_labels_selected = gold_labels.iloc[:,label_indices]\n",
    "        binary_predictions_selected = binary_df_pred[:,label_indices]\n",
    "\n",
    "    \n",
    "        # hamming can be computed over all frames, but we use the selected frames for consistency\n",
    "        hamming = metrics.hamming_loss(gold_labels_selected, binary_predictions_selected)\n",
    "\n",
    "        # well-defined f1 scores require a frame to be both predicted and occur\n",
    "        f1_macro = metrics.f1_score(gold_labels_selected, binary_predictions_selected, average='macro')\n",
    "        f1_micro = metrics.f1_score(gold_labels_selected, binary_predictions_selected, average='micro')\n",
    "        f1_weighted = metrics.f1_score(gold_labels_selected, binary_predictions_selected, average='weighted')\n",
    "        \n",
    "        # for auc we use weighted averaging\n",
    "        auc = metrics.roc_auc_score(gold_labels_selected, results[i][:,label_indices], average = 'weighted')\n",
    "\n",
    "            \n",
    "        # compute evaluations about multilabeled frame predictions\n",
    "        # N/A if multiclass classification\n",
    "        if multiclass:\n",
    "            match_multiple = np.nan\n",
    "            number_multiple = np.nan\n",
    "            argmax_preds = gold_labels.to_numpy().argmax(1)\n",
    "            argmax_gold = binary_df_pred.argmax(1) # binary_df_pred already contains one-hot vectors, argmax is still fine\n",
    "            exact_match = np.sum(argmax_preds == argmax_gold)/size\n",
    "            \n",
    "            # single-labeled accuracy\n",
    "            multiple_frame_articles_bool = np.sum(multilabeled_gold[i], axis=1) > 1.0\n",
    "            results_single = np.equal(argmax_preds,argmax_gold)[~multiple_frame_articles_bool]\n",
    "            match_single = np.mean(results_single)\n",
    "        else:  \n",
    "            exact_match = np.sum(np.equal(gold_labels, binary_df_pred).all(1))/size\n",
    "            multiple_frame_articles_bool = np.sum(gold_labels, axis=1) > 1.0\n",
    "            results_multiple = np.equal(gold_labels, binary_df_pred).loc[multiple_frame_articles_bool]\n",
    "            number_multiple = len(results_multiple)\n",
    "            match_multiple = np.sum(results_multiple.all(1))/number_multiple\n",
    "\n",
    "            # single-labeled accuracy\n",
    "            results_single = np.equal(gold_labels, binary_df_pred).loc[~multiple_frame_articles_bool]\n",
    "            number_single = len(results_single)\n",
    "            match_single = np.sum(results_single.all(1))/number_single\n",
    "\n",
    "        metrics_folds[i] = {\"hamming\":hamming,\n",
    "                            \"f1_macro\":f1_macro,\n",
    "                            \"f1_micro\":f1_micro,\n",
    "                            \"f1_weighted\":f1_weighted,\n",
    "                            \"exact_match\":exact_match,\n",
    "                            \"auc\":auc,\n",
    "                            \"exact_match_multiple\":match_multiple,\n",
    "                            \"number_multiple\":number_multiple,\n",
    "                            \"exact_match_single\":match_single}\n",
    "    return metrics_folds"
   ]
  },
  {
   "cell_type": "code",
   "execution_count": 6,
   "metadata": {},
   "outputs": [],
   "source": [
    "def string_for_latex_table(rs):\n",
    "    s = \"\"\n",
    "    rs = rs.astype(str)\n",
    "    return s + \\\n",
    "        rs['f1_macro'] + '&' + \\\n",
    "        rs['f1_weighted'] + '&' + \\\n",
    "        rs['f1_micro'] + '&' + \\\n",
    "        rs['auc'] + '&' + \\\n",
    "        rs['hamming'] + '&' + \\\n",
    "        rs['exact_match_single'] + '&' + \\\n",
    "        rs['exact_match_multiple'] + '&' + \\\n",
    "        rs['exact_match']"
   ]
  },
  {
   "cell_type": "code",
   "execution_count": 68,
   "metadata": {},
   "outputs": [],
   "source": [
    "def collate_results(p, thres, multiclass, test_path, train_path, german=False):\n",
    "    \n",
    "    # read results\n",
    "    pickle_in = open(p,\"rb\")\n",
    "    results = pickle.load(pickle_in)\n",
    "    \n",
    "    # read gold labels for test folds\n",
    "    gold_labels_test_folds = get_gold_labels(False, train_path, test_path, german)\n",
    "#     print(gold_labels_test_folds)\n",
    "    # if multiclass results are from softmax\n",
    "    if multiclass:\n",
    "        results_mc = {}\n",
    "        golds_mc ={}\n",
    "        print(results.keys())\n",
    "        for fold in results.keys():\n",
    "            zeros = np.zeros_like(results[fold])\n",
    "            zeros[np.arange(zeros.shape[0]), results[fold].argmax(axis=1)] = 1.0\n",
    "            \n",
    "            # select the softmax predictions that correspond to gold labels\n",
    "            results_mc[fold] = zeros * results[fold]\n",
    "            golds_mc[fold] = gold_labels_test_folds[fold]\n",
    "            \n",
    "        # store results back in binarized format\n",
    "        results = results_mc\n",
    "        gold_labels_test_folds = golds_mc\n",
    "\n",
    "        \n",
    "    if thres == 'fold':\n",
    "        gold_labels_train_folds = get_gold_labels(True, train_path, test_path, german)\n",
    "        \n",
    "        optimal_t = get_thres_fold(gold_labels_train_folds, results)\n",
    "    elif thres == 'fold_frame':\n",
    "        gold_labels_train_folds = get_gold_labels(True, train_path, test_path, german)\n",
    "        optimal_t = get_thres_fold_frame(gold_labels_train_folds, results)\n",
    "    elif thres == 'sigmoid':\n",
    "        optimal_t = np.full(9,0.5)\n",
    "    elif thres == 'multiclass':\n",
    "        optimal_t = None\n",
    "    else:\n",
    "        assert(\"Thresholding strategy not known.\")\n",
    "\n",
    "    metrics = get_metrics(optimal_t, results, gold_labels_test_folds, multiclass=multiclass)\n",
    "    s = string_for_latex_table(pd.DataFrame(metrics).mean(axis=1).round(2))\n",
    "    return s\n"
   ]
  },
  {
   "cell_type": "code",
   "execution_count": 58,
   "metadata": {},
   "outputs": [],
   "source": [
    "def get_gold_labels(train, train_path, test_path, german=False):\n",
    "    \"\"\"\n",
    "    german dataset doesn't have folds for dev set.\n",
    "    \"\"\"\n",
    "    gold_labels = {}\n",
    "    for i in range(5):\n",
    "        # train or test gold labels, in binarized format\n",
    "        if train:\n",
    "            df = pd.read_csv(train_path+'/'+str(i)+ \"/train.tsv\", header=None, sep='\\t').iloc[:,3:]\n",
    "        else:\n",
    "            if german:\n",
    "                df = pd.read_csv(test_path+\"/dev.tsv\", header=None, sep='\\t').iloc[:,3:]\n",
    "            else:\n",
    "                df = pd.read_csv(test_path+'/'+str(i)+\"/dev.tsv\", header=None, sep='\\t').iloc[:,3:]\n",
    "        gold_labels[i] = df\n",
    "    return gold_labels"
   ]
  },
  {
   "cell_type": "code",
   "execution_count": 70,
   "metadata": {},
   "outputs": [],
   "source": [
    "def collate_9binary(path):\n",
    "    results_folds = {}\n",
    "    for i in range(5):\n",
    "        # read predictions for frame1 in fold i here to get the dev set size\n",
    "        p = os.path.join(path, \"frame1\", str(i), 'predictions.pkl')\n",
    "        pickle_in = open(p, 'rb')\n",
    "        predictions = pickle.load(pickle_in)[1]\n",
    "        results = np.zeros((len(predictions),9))\n",
    "        results[:,0] = predictions\n",
    "        for j in range(1,9): # concatenate other predictions column-wise\n",
    "            p = os.path.join(path, \"frame\"+str(j+1), str(i), 'predictions.pkl')\n",
    "            pickle_in = open(p, 'rb')\n",
    "            results[:,j] = pickle.load(pickle_in)[1]\n",
    "        results_folds[i] = results\n",
    "    return results_folds"
   ]
  },
  {
   "cell_type": "code",
   "execution_count": 56,
   "metadata": {},
   "outputs": [],
   "source": [
    "metric_names = [\"Model\", \"f1-macro\", \"f1-weighted\", \"f1-micro\", \"auc\", \"hamming\", \n",
    "                \"exact_match_single\", \"exact_match_multiple\", \"exact_match_all\"]"
   ]
  },
  {
   "cell_type": "markdown",
   "metadata": {},
   "source": [
    "### Multilabel and Multiclass comparisons"
   ]
  },
  {
   "cell_type": "code",
   "execution_count": 45,
   "metadata": {
    "scrolled": false
   },
   "outputs": [
    {
     "name": "stdout",
     "output_type": "stream",
     "text": [
      "Model f1-macro f1-weighted f1-micro auc hamming exact_match_single exact_match_multiple exact_match_all\n",
      "multilabel_engbert_focal.pkl :  0.8&0.85&0.86&0.97&0.04&0.81&0.53&0.74\n",
      "multilabel_multibert_focal.pkl :  0.75&0.8&0.81&0.95&0.05&0.77&0.48&0.7\n",
      "multiclass_engbert_softmaxfocal.pkl :  0.77&0.83&0.83&0.91&0.04&0.86&nan&0.83\n",
      "multiclass_multibert_softmaxfocal.pkl :  0.73&0.79&0.79&0.89&0.05&0.82&nan&0.79\n"
     ]
    }
   ],
   "source": [
    "p = ['multilabel_engbert_focal.pkl',\n",
    "     'multilabel_multibert_focal.pkl',\n",
    "     'multiclass_engbert_softmaxfocal.pkl',\n",
    "     'multiclass_multibert_softmaxfocal.pkl']\n",
    "\n",
    "print(' '.join(metric_names))\n",
    "# train path is not needed as thresholds will all be 0.5\n",
    "print(p[0], \": \", collate_results(p[0], thres = 'sigmoid', multiclass=False, test_path='dataset', train_path=None))\n",
    "# train path is not needed as thresholds will all be 0.5\n",
    "print(p[1], \": \", collate_results(p[1], thres = 'sigmoid', multiclass=False, test_path='dataset', train_path=None))\n",
    "\n",
    "print(p[2], \": \", collate_results(p[2], thres = 'multiclass', multiclass=True,\n",
    "                      test_path=\"dataset/dataset_multiclass_wide\", \n",
    "                      train_path=\"dataset/dataset_multiclass_wide\", german=False))\n",
    "print(p[3], \": \", collate_results(p[3], thres = 'multiclass', multiclass=True,\n",
    "                      test_path=\"dataset/dataset_multiclass_wide\", \n",
    "                      train_path=\"dataset/dataset_multiclass_wide\", german=False))"
   ]
  },
  {
   "cell_type": "code",
   "execution_count": 12,
   "metadata": {},
   "outputs": [
    {
     "name": "stdout",
     "output_type": "stream",
     "text": [
      "multilabel_engbert_cased_focal.pkl :  0.79&0.84&0.85&0.97&0.04&0.79&0.51&0.72\n"
     ]
    }
   ],
   "source": [
    "p = 'multilabel_engbert_cased_focal.pkl'\n",
    "print(p, \": \", collate_results(p, thres = 'sigmoid', \n",
    "                                  multiclass=False, test_path='dataset', train_path=None))"
   ]
  },
  {
   "cell_type": "markdown",
   "metadata": {},
   "source": [
    "### 9 Binary Classifiers"
   ]
  },
  {
   "cell_type": "code",
   "execution_count": 72,
   "metadata": {
    "scrolled": false
   },
   "outputs": [
    {
     "name": "stdout",
     "output_type": "stream",
     "text": [
      "binary_multibert_focal_9binary_classifiers.pkl :  0.74&0.82&0.82&0.95&0.05&0.69&0.58&0.66\n"
     ]
    }
   ],
   "source": [
    "expname = 'binary_multibert_focal_9binary_classifiers'\n",
    "p = expname+\".pkl\"\n",
    "path = os.path.join(\"/usr4/cs591/akyurek/linknb\", expname)\n",
    "results_folds = collate_9binary(path)\n",
    "with open(p,'wb') as f:\n",
    "    pickle.dump(results_folds, f)\n",
    "    \n",
    "# thres is given as sigmoid as we want 0.5 to be the thres\n",
    "print(p, \": \", collate_results(p, thres='sigmoid', \n",
    "                               multiclass=False, test_path='dataset', train_path=None))"
   ]
  },
  {
   "cell_type": "markdown",
   "metadata": {},
   "source": [
    "### Different Softmax Loss Experiments Metrics"
   ]
  },
  {
   "cell_type": "code",
   "execution_count": 73,
   "metadata": {
    "scrolled": true
   },
   "outputs": [
    {
     "name": "stdout",
     "output_type": "stream",
     "text": [
      "Model f1-macro f1-weighted f1-micro auc hamming exact_match_single exact_match_multiple exact_match_all\n",
      "multilabel_multibert_softmax.pkl  (LCard-1) 0.75&0.81&0.82&0.95&0.05&0.77&0.52&0.71\n",
      "multilabel_multibert_softmax.pkl  (LCard-2) 0.74&0.8&0.8&0.95&0.05&0.76&0.45&0.68\n",
      "multilabel_multibert_softmax_weighted.pkl  (LCard-1) 0.78&0.82&0.82&0.96&0.05&0.77&0.43&0.69\n",
      "multilabel_multibert_softmax_weighted.pkl  (LCard-2) 0.78&0.81&0.81&0.96&0.05&0.76&0.45&0.69\n",
      "multilabel_multibert_log_normalized_softmax.pkl  (LCard-1) 0.64&0.73&0.72&0.88&0.08&0.74&0.06&0.58\n",
      "multilabel_multibert_log_normalized_softmax.pkl  (LCard-2) 0.63&0.72&0.72&0.88&0.08&0.75&0.07&0.58\n",
      "multilabel_multibert_normalized_log_softmax.pkl  (LCard-1) 0.75&0.81&0.82&0.95&0.05&0.76&0.51&0.7\n",
      "multilabel_multibert_normalized_log_softmax.pkl  (LCard-2) 0.75&0.82&0.82&0.95&0.05&0.76&0.49&0.7\n"
     ]
    }
   ],
   "source": [
    "#MultiBERT Softmax Loss LCard1 and LCard2\n",
    "p = [\"multilabel_multibert_softmax.pkl\",\n",
    "     \"multilabel_multibert_softmax_weighted.pkl\",\n",
    "     \"multilabel_multibert_log_normalized_softmax.pkl\",\n",
    "     \"multilabel_multibert_normalized_log_softmax.pkl\"]\n",
    "\n",
    "print(' '.join(metric_names))\n",
    "\n",
    "for i in p:\n",
    "    s1 = collate_results(i, thres = 'fold', multiclass=False, \n",
    "                         test_path='dataset', train_path='dataset')\n",
    "    s2 = collate_results(i, thres = 'fold_frame', multiclass=False, \n",
    "                         test_path='dataset', train_path='dataset')\n",
    "\n",
    "    print(i, \" (LCard-1)\", s1)\n",
    "    print(i, \" (LCard-2)\", s2)"
   ]
  },
  {
   "cell_type": "markdown",
   "metadata": {},
   "source": [
    "### Zero-shot and Few-shot results for German"
   ]
  },
  {
   "cell_type": "code",
   "execution_count": 37,
   "metadata": {
    "scrolled": true
   },
   "outputs": [
    {
     "name": "stdout",
     "output_type": "stream",
     "text": [
      "Model f1-macro f1-weighted f1-micro auc hamming exact_match_single exact_match_multiple exact_match_all\n",
      "multilabel_multibert_german_zero_shot_focal.pkl :  0.53&0.66&0.69&0.87&0.12&0.46&0.34&0.39\n",
      "multilabel_multibert_german_zero_shot_softmax.pkl :  0.5&0.66&0.68&0.85&0.12&0.58&0.29&0.42\n",
      "multilabel_multibert_german_zero_shot_softmax_weighted.pkl :  0.52&0.58&0.59&0.84&0.16&0.45&0.17&0.29\n",
      "multilabel_multibert_german_30_shot_focal.pkl :  0.72&0.78&0.77&0.95&0.12&0.61&0.38&0.46\n",
      "multilabel_multibert_german_30_shot_softmax.pkl :  0.63&0.69&0.72&0.93&0.14&0.65&0.21&0.37\n"
     ]
    }
   ],
   "source": [
    "p = ['multilabel_multibert_german_zero_shot_focal.pkl',\n",
    "           'multilabel_multibert_german_zero_shot_softmax.pkl',\n",
    "           'multilabel_multibert_german_zero_shot_softmax_weighted.pkl',\n",
    "           'multilabel_multibert_german_30_shot_focal.pkl',\n",
    "           'multilabel_multibert_german_30_shot_softmax.pkl',]\n",
    "print(' '.join(metric_names))\n",
    "print(p[0], \": \",collate_results(p[0], thres = 'sigmoid', multiclass=False,\n",
    "                      test_path=\"dataset/german\", train_path=None, german=True))\n",
    "print(p[1], \": \",collate_results(p[1], thres = 'fold', multiclass=False,\n",
    "                      test_path=\"dataset/german\", train_path=\"dataset\", german=True))\n",
    "print(p[2], \": \",collate_results(p[2], thres = 'fold', multiclass=False,\n",
    "                      test_path=\"dataset/german\", train_path=\"dataset\", german=True))\n",
    "print(p[3], \": \",collate_results(p[3], thres = 'sigmoid', multiclass=False,\n",
    "                      test_path=\"dataset/german/30shot\", train_path=None, german=True))\n",
    "print(p[4], \": \",collate_results(p[4], thres = 'fold', multiclass=False,\n",
    "                      test_path=\"dataset/german/30shot\", train_path=\"dataset\", german=True))"
   ]
  },
  {
   "cell_type": "markdown",
   "metadata": {},
   "source": [
    "### Exploring the translation in both directions"
   ]
  },
  {
   "cell_type": "code",
   "execution_count": 38,
   "metadata": {
    "scrolled": true
   },
   "outputs": [
    {
     "name": "stdout",
     "output_type": "stream",
     "text": [
      "0.59&0.69&0.68&0.88&0.12&0.75&0.27&0.48\n",
      "0.55&0.69&0.7&0.88&0.12&0.74&0.28&0.48\n",
      "0.52&0.6&0.59&0.87&0.15&0.72&0.23&0.44\n",
      "0.6&0.72&0.75&0.9&0.1&0.77&0.4&0.56\n",
      "0.59&0.71&0.74&0.88&0.1&0.77&0.38&0.55\n",
      "0.6&0.71&0.73&0.89&0.1&0.75&0.36&0.53\n",
      "0.63&0.75&0.78&0.91&0.09&0.74&0.47&0.59\n",
      "0.58&0.72&0.75&0.89&0.1&0.77&0.37&0.55\n",
      "0.61&0.74&0.76&0.9&0.1&0.77&0.39&0.56\n"
     ]
    }
   ],
   "source": [
    "pickles = ['multilabel_multibert_focal_train_en2de_test_de.pkl',\n",
    "           'multilabel_multibert_softmax_train_en2de_test_de.pkl',\n",
    "           'multilabel_multibert_softmax_weighted_train_en2de_test_de.pkl',\n",
    "           'multilabel_multibert_focal_train_en_test_de2en.pkl',\n",
    "           'multilabel_multibert_softmax_train_en_test_de2en.pkl',\n",
    "           'multilabel_multibert_softmax_weighted_train_en_test_de2en.pkl',\n",
    "           'multilabel_engbert_focal_train_en_test_de2en.pkl',\n",
    "           'multilabel_engbert_softmax_train_en_test_de2en.pkl',\n",
    "           'multilabel_engbert_softmax_weighted_train_en_test_de2en.pkl']\n",
    "\n",
    "print(collate_results(pickles[0], thres = 'sigmoid', multiclass=False, \n",
    "                      test_path=\"dataset/german/TrainEnglish2German/0\", \n",
    "                      train_path=None, german=True))\n",
    "print(collate_results(pickles[1], thres = 'fold', multiclass=False, \n",
    "                      test_path=\"dataset/german/TrainEnglish2German/0\", \n",
    "                      train_path=\"dataset/german/TrainEnglish2German\", german=True))\n",
    "print(collate_results(pickles[2], thres = 'fold', multiclass=False, \n",
    "                      test_path=\"dataset/german/TrainEnglish2German/0\", \n",
    "                      train_path=\"dataset/german/TrainEnglish2German\", german=True))\n",
    "\n",
    "\n",
    "print(collate_results(pickles[3], thres = 'sigmoid', multiclass=False, \n",
    "                      test_path=\"dataset/german/TestGerman2English\", \n",
    "                      train_path=None, german=True))\n",
    "print(collate_results(pickles[4], thres = 'fold', multiclass=False, \n",
    "                      test_path=\"dataset/german/TestGerman2English\", \n",
    "                      train_path=\"dataset/german/TestGerman2English\", german=True))\n",
    "print(collate_results(pickles[5], thres = 'fold', multiclass=False, \n",
    "                      test_path=\"dataset/german/TestGerman2English\", \n",
    "                      train_path=\"dataset/german/TestGerman2English\", german=True))\n",
    "\n",
    "\n",
    "print(collate_results(pickles[6], thres = 'sigmoid', multiclass=False, \n",
    "                      test_path=\"dataset/german/TestGerman2English\", \n",
    "                      train_path=None, german=True))\n",
    "print(collate_results(pickles[7], thres = 'fold', multiclass=False, \n",
    "                      test_path=\"dataset/german/TestGerman2English\", \n",
    "                      train_path=\"dataset/german/TestGerman2English\", german=True))\n",
    "print(collate_results(pickles[8], thres = 'fold', multiclass=False, \n",
    "                      test_path=\"dataset/german/TestGerman2English\", \n",
    "                      train_path=\"dataset/german/TestGerman2English\", german=True))"
   ]
  },
  {
   "cell_type": "code",
   "execution_count": 10,
   "metadata": {},
   "outputs": [
    {
     "name": "stdout",
     "output_type": "stream",
     "text": [
      "0.58&0.72&0.75&0.9&0.1&0.72&0.41&0.54\n"
     ]
    }
   ],
   "source": [
    "p = \"multilabel_engbert_cased_focal_train_en_test_de2en.pkl\"\n",
    "\n",
    "print(collate_results(p, thres = 'sigmoid', multiclass=False, \n",
    "                      test_path=\"dataset/german/TestGerman2English\", \n",
    "                      train_path=None, german=True))"
   ]
  },
  {
   "cell_type": "markdown",
   "metadata": {},
   "source": [
    "## Appendix"
   ]
  },
  {
   "cell_type": "code",
   "execution_count": 6,
   "metadata": {},
   "outputs": [],
   "source": [
    "def collate_4binary(path):\n",
    "    results_folds = {}\n",
    "    golds_folds = {}\n",
    "    for i in range(5):\n",
    "        # read predictions for frame1 in fold i here to get the dev set size\n",
    "        p = os.path.join(path, \"frame1\", str(i), 'predictions.pkl')\n",
    "        pickle_in = open(p, 'rb')\n",
    "        preds_golds = pickle.load(pickle_in)\n",
    "        \n",
    "        preds = preds_golds[1]\n",
    "        golds = preds_golds[2]\n",
    "        size = len(preds)\n",
    "        results = np.zeros((size,4))\n",
    "        golds = np.zeros((size,4))\n",
    "        results[:,0] = preds\n",
    "#         golds[:,0] = golds\n",
    "        \n",
    "        for j,frame in enumerate([2,4,5]): # concatenate other predictions column-wise\n",
    "            p = os.path.join(path, \"frame\"+str(frame), str(i), 'predictions.pkl')\n",
    "            pickle_in = open(p, 'rb')\n",
    "            preds_golds = pickle.load(pickle_in)\n",
    "            results[:,j] = preds_golds[1]\n",
    "#             golds[:,j] = preds_golds[2]\n",
    "            \n",
    "        results_folds[i] = results\n",
    "        golds_folds[i] = golds\n",
    "        \n",
    "    return results_folds, golds_folds"
   ]
  },
  {
   "cell_type": "markdown",
   "metadata": {},
   "source": [
    "### 4 Binary Classifiers"
   ]
  },
  {
   "cell_type": "code",
   "execution_count": 173,
   "metadata": {},
   "outputs": [],
   "source": [
    "def get_4binary_metrics(expname):\n",
    "    path = os.path.join(\"/usr4/cs591/akyurek/linknb\", expname)\n",
    "    # results_folds, golds_folds = collate_4binary(path)\n",
    "\n",
    "    m = {} # metrics\n",
    "    d = {} # distributions\n",
    "    for frame in [1,2,4,5]:\n",
    "        \n",
    "        precisions = np.zeros(5)\n",
    "        recalls = np.zeros(5)\n",
    "        dists = {}\n",
    "        for i in range(5):\n",
    "            p = os.path.join(path, \"frame\"+str(frame), str(i), 'predictions.pkl')\n",
    "            pickle_in = open(p, 'rb')\n",
    "            preds_golds = pickle.load(pickle_in)\n",
    "            \n",
    "            preds = preds_golds[1]>0.5 \n",
    "            golds = preds_golds[2] # binary\n",
    "\n",
    "            # compute precision and recall\n",
    "            never_predicted = preds.sum()==0\n",
    "            if never_predicted:\n",
    "                print(\"Frame %d in fold %d is never predicted.\" % (frame, i) )\n",
    "\n",
    "            p = metrics.precision_score(golds, preds)\n",
    "            r = metrics.recall_score(golds, preds) \n",
    "\n",
    "            precisions[i] = np.nan if never_predicted else p\n",
    "            recalls[i] = r\n",
    "            # compute data distribution 1 / (1+0)\n",
    "            dists[i] = golds.mean().round(2)\n",
    "        \n",
    "        d[frame] = dists\n",
    "        m[frame] = {'precision':np.nanmean(precisions).round(2),\n",
    "                    'recall':recalls.mean().round(2)}\n",
    "    return m,d\n"
   ]
  },
  {
   "cell_type": "code",
   "execution_count": 174,
   "metadata": {},
   "outputs": [
    {
     "data": {
      "text/html": [
       "<div>\n",
       "<style scoped>\n",
       "    .dataframe tbody tr th:only-of-type {\n",
       "        vertical-align: middle;\n",
       "    }\n",
       "\n",
       "    .dataframe tbody tr th {\n",
       "        vertical-align: top;\n",
       "    }\n",
       "\n",
       "    .dataframe thead th {\n",
       "        text-align: right;\n",
       "    }\n",
       "</style>\n",
       "<table border=\"1\" class=\"dataframe\">\n",
       "  <thead>\n",
       "    <tr style=\"text-align: right;\">\n",
       "      <th></th>\n",
       "      <th>precision</th>\n",
       "      <th>recall</th>\n",
       "    </tr>\n",
       "  </thead>\n",
       "  <tbody>\n",
       "    <tr>\n",
       "      <th>1</th>\n",
       "      <td>0.76</td>\n",
       "      <td>0.78</td>\n",
       "    </tr>\n",
       "    <tr>\n",
       "      <th>2</th>\n",
       "      <td>0.85</td>\n",
       "      <td>0.92</td>\n",
       "    </tr>\n",
       "    <tr>\n",
       "      <th>4</th>\n",
       "      <td>0.63</td>\n",
       "      <td>0.55</td>\n",
       "    </tr>\n",
       "    <tr>\n",
       "      <th>5</th>\n",
       "      <td>0.73</td>\n",
       "      <td>0.67</td>\n",
       "    </tr>\n",
       "  </tbody>\n",
       "</table>\n",
       "</div>"
      ],
      "text/plain": [
       "   precision  recall\n",
       "1       0.76    0.78\n",
       "2       0.85    0.92\n",
       "4       0.63    0.55\n",
       "5       0.73    0.67"
      ]
     },
     "metadata": {},
     "output_type": "display_data"
    },
    {
     "data": {
      "text/html": [
       "<div>\n",
       "<style scoped>\n",
       "    .dataframe tbody tr th:only-of-type {\n",
       "        vertical-align: middle;\n",
       "    }\n",
       "\n",
       "    .dataframe tbody tr th {\n",
       "        vertical-align: top;\n",
       "    }\n",
       "\n",
       "    .dataframe thead th {\n",
       "        text-align: right;\n",
       "    }\n",
       "</style>\n",
       "<table border=\"1\" class=\"dataframe\">\n",
       "  <thead>\n",
       "    <tr style=\"text-align: right;\">\n",
       "      <th></th>\n",
       "      <th>0</th>\n",
       "      <th>1</th>\n",
       "      <th>2</th>\n",
       "      <th>3</th>\n",
       "      <th>4</th>\n",
       "    </tr>\n",
       "  </thead>\n",
       "  <tbody>\n",
       "    <tr>\n",
       "      <th>1</th>\n",
       "      <td>0.02</td>\n",
       "      <td>0.03</td>\n",
       "      <td>0.03</td>\n",
       "      <td>0.02</td>\n",
       "      <td>0.03</td>\n",
       "    </tr>\n",
       "    <tr>\n",
       "      <th>2</th>\n",
       "      <td>0.12</td>\n",
       "      <td>0.14</td>\n",
       "      <td>0.11</td>\n",
       "      <td>0.14</td>\n",
       "      <td>0.13</td>\n",
       "    </tr>\n",
       "    <tr>\n",
       "      <th>4</th>\n",
       "      <td>0.03</td>\n",
       "      <td>0.03</td>\n",
       "      <td>0.04</td>\n",
       "      <td>0.03</td>\n",
       "      <td>0.03</td>\n",
       "    </tr>\n",
       "    <tr>\n",
       "      <th>5</th>\n",
       "      <td>0.07</td>\n",
       "      <td>0.07</td>\n",
       "      <td>0.07</td>\n",
       "      <td>0.08</td>\n",
       "      <td>0.07</td>\n",
       "    </tr>\n",
       "  </tbody>\n",
       "</table>\n",
       "</div>"
      ],
      "text/plain": [
       "      0     1     2     3     4\n",
       "1  0.02  0.03  0.03  0.02  0.03\n",
       "2  0.12  0.14  0.11  0.14  0.13\n",
       "4  0.03  0.03  0.04  0.03  0.03\n",
       "5  0.07  0.07  0.07  0.08  0.07"
      ]
     },
     "metadata": {},
     "output_type": "display_data"
    }
   ],
   "source": [
    "expname = 'binary_engbert_focal_4binary_classifiers'\n",
    "m,d = get_4binary_metrics(expname)\n",
    "display(pd.DataFrame(m).T)\n",
    "display(pd.DataFrame(d).T)"
   ]
  },
  {
   "cell_type": "code",
   "execution_count": 168,
   "metadata": {},
   "outputs": [
    {
     "name": "stdout",
     "output_type": "stream",
     "text": [
      "epochs 9\n"
     ]
    },
    {
     "data": {
      "text/html": [
       "<div>\n",
       "<style scoped>\n",
       "    .dataframe tbody tr th:only-of-type {\n",
       "        vertical-align: middle;\n",
       "    }\n",
       "\n",
       "    .dataframe tbody tr th {\n",
       "        vertical-align: top;\n",
       "    }\n",
       "\n",
       "    .dataframe thead th {\n",
       "        text-align: right;\n",
       "    }\n",
       "</style>\n",
       "<table border=\"1\" class=\"dataframe\">\n",
       "  <thead>\n",
       "    <tr style=\"text-align: right;\">\n",
       "      <th></th>\n",
       "      <th>precision</th>\n",
       "      <th>recall</th>\n",
       "    </tr>\n",
       "  </thead>\n",
       "  <tbody>\n",
       "    <tr>\n",
       "      <th>5</th>\n",
       "      <td>0.72727</td>\n",
       "      <td>0.67</td>\n",
       "    </tr>\n",
       "  </tbody>\n",
       "</table>\n",
       "</div>"
      ],
      "text/plain": [
       "   precision  recall\n",
       "5    0.72727    0.67"
      ]
     },
     "metadata": {},
     "output_type": "display_data"
    },
    {
     "data": {
      "text/html": [
       "<div>\n",
       "<style scoped>\n",
       "    .dataframe tbody tr th:only-of-type {\n",
       "        vertical-align: middle;\n",
       "    }\n",
       "\n",
       "    .dataframe tbody tr th {\n",
       "        vertical-align: top;\n",
       "    }\n",
       "\n",
       "    .dataframe thead th {\n",
       "        text-align: right;\n",
       "    }\n",
       "</style>\n",
       "<table border=\"1\" class=\"dataframe\">\n",
       "  <thead>\n",
       "    <tr style=\"text-align: right;\">\n",
       "      <th></th>\n",
       "      <th>0</th>\n",
       "    </tr>\n",
       "  </thead>\n",
       "  <tbody>\n",
       "    <tr>\n",
       "      <th>5</th>\n",
       "      <td>0.07</td>\n",
       "    </tr>\n",
       "  </tbody>\n",
       "</table>\n",
       "</div>"
      ],
      "text/plain": [
       "      0\n",
       "5  0.07"
      ]
     },
     "metadata": {},
     "output_type": "display_data"
    }
   ],
   "source": [
    "print('epochs 9')\n",
    "expname = 'binary_engbert_focal_4binary_classifiers'\n",
    "m,d = get_4binary_metrics(expname)\n",
    "display(pd.DataFrame(m).T)\n",
    "display(pd.DataFrame(d).T)"
   ]
  },
  {
   "cell_type": "code",
   "execution_count": 163,
   "metadata": {},
   "outputs": [
    {
     "name": "stdout",
     "output_type": "stream",
     "text": [
      "epochs 8\n"
     ]
    },
    {
     "data": {
      "text/html": [
       "<div>\n",
       "<style scoped>\n",
       "    .dataframe tbody tr th:only-of-type {\n",
       "        vertical-align: middle;\n",
       "    }\n",
       "\n",
       "    .dataframe tbody tr th {\n",
       "        vertical-align: top;\n",
       "    }\n",
       "\n",
       "    .dataframe thead th {\n",
       "        text-align: right;\n",
       "    }\n",
       "</style>\n",
       "<table border=\"1\" class=\"dataframe\">\n",
       "  <thead>\n",
       "    <tr style=\"text-align: right;\">\n",
       "      <th></th>\n",
       "      <th>precision</th>\n",
       "      <th>recall</th>\n",
       "    </tr>\n",
       "  </thead>\n",
       "  <tbody>\n",
       "    <tr>\n",
       "      <th>5</th>\n",
       "      <td>0.68571</td>\n",
       "      <td>0.67</td>\n",
       "    </tr>\n",
       "  </tbody>\n",
       "</table>\n",
       "</div>"
      ],
      "text/plain": [
       "   precision  recall\n",
       "5    0.68571    0.67"
      ]
     },
     "metadata": {},
     "output_type": "display_data"
    },
    {
     "data": {
      "text/html": [
       "<div>\n",
       "<style scoped>\n",
       "    .dataframe tbody tr th:only-of-type {\n",
       "        vertical-align: middle;\n",
       "    }\n",
       "\n",
       "    .dataframe tbody tr th {\n",
       "        vertical-align: top;\n",
       "    }\n",
       "\n",
       "    .dataframe thead th {\n",
       "        text-align: right;\n",
       "    }\n",
       "</style>\n",
       "<table border=\"1\" class=\"dataframe\">\n",
       "  <thead>\n",
       "    <tr style=\"text-align: right;\">\n",
       "      <th></th>\n",
       "      <th>0</th>\n",
       "    </tr>\n",
       "  </thead>\n",
       "  <tbody>\n",
       "    <tr>\n",
       "      <th>5</th>\n",
       "      <td>0.07</td>\n",
       "    </tr>\n",
       "  </tbody>\n",
       "</table>\n",
       "</div>"
      ],
      "text/plain": [
       "      0\n",
       "5  0.07"
      ]
     },
     "metadata": {},
     "output_type": "display_data"
    }
   ],
   "source": [
    "print('epochs 8')\n",
    "expname = 'binary_engbert_focal_4binary_classifiers'\n",
    "m,d = get_4binary_metrics(expname)\n",
    "display(pd.DataFrame(m).T)\n",
    "display(pd.DataFrame(d).T)"
   ]
  },
  {
   "cell_type": "code",
   "execution_count": 158,
   "metadata": {},
   "outputs": [
    {
     "name": "stdout",
     "output_type": "stream",
     "text": [
      "epochs 6\n"
     ]
    },
    {
     "data": {
      "text/html": [
       "<div>\n",
       "<style scoped>\n",
       "    .dataframe tbody tr th:only-of-type {\n",
       "        vertical-align: middle;\n",
       "    }\n",
       "\n",
       "    .dataframe tbody tr th {\n",
       "        vertical-align: top;\n",
       "    }\n",
       "\n",
       "    .dataframe thead th {\n",
       "        text-align: right;\n",
       "    }\n",
       "</style>\n",
       "<table border=\"1\" class=\"dataframe\">\n",
       "  <thead>\n",
       "    <tr style=\"text-align: right;\">\n",
       "      <th></th>\n",
       "      <th>precision</th>\n",
       "      <th>recall</th>\n",
       "    </tr>\n",
       "  </thead>\n",
       "  <tbody>\n",
       "    <tr>\n",
       "      <th>5</th>\n",
       "      <td>0.67647</td>\n",
       "      <td>0.64</td>\n",
       "    </tr>\n",
       "  </tbody>\n",
       "</table>\n",
       "</div>"
      ],
      "text/plain": [
       "   precision  recall\n",
       "5    0.67647    0.64"
      ]
     },
     "metadata": {},
     "output_type": "display_data"
    },
    {
     "data": {
      "text/html": [
       "<div>\n",
       "<style scoped>\n",
       "    .dataframe tbody tr th:only-of-type {\n",
       "        vertical-align: middle;\n",
       "    }\n",
       "\n",
       "    .dataframe tbody tr th {\n",
       "        vertical-align: top;\n",
       "    }\n",
       "\n",
       "    .dataframe thead th {\n",
       "        text-align: right;\n",
       "    }\n",
       "</style>\n",
       "<table border=\"1\" class=\"dataframe\">\n",
       "  <thead>\n",
       "    <tr style=\"text-align: right;\">\n",
       "      <th></th>\n",
       "      <th>0</th>\n",
       "    </tr>\n",
       "  </thead>\n",
       "  <tbody>\n",
       "    <tr>\n",
       "      <th>5</th>\n",
       "      <td>0.07</td>\n",
       "    </tr>\n",
       "  </tbody>\n",
       "</table>\n",
       "</div>"
      ],
      "text/plain": [
       "      0\n",
       "5  0.07"
      ]
     },
     "metadata": {},
     "output_type": "display_data"
    }
   ],
   "source": [
    "print('epochs 6')\n",
    "expname = 'binary_engbert_focal_4binary_classifiers'\n",
    "m,d = get_4binary_metrics(expname)\n",
    "display(pd.DataFrame(m).T)\n",
    "display(pd.DataFrame(d).T)"
   ]
  },
  {
   "cell_type": "code",
   "execution_count": 161,
   "metadata": {},
   "outputs": [
    {
     "name": "stdout",
     "output_type": "stream",
     "text": [
      "epochs 8\n"
     ]
    },
    {
     "data": {
      "text/html": [
       "<div>\n",
       "<style scoped>\n",
       "    .dataframe tbody tr th:only-of-type {\n",
       "        vertical-align: middle;\n",
       "    }\n",
       "\n",
       "    .dataframe tbody tr th {\n",
       "        vertical-align: top;\n",
       "    }\n",
       "\n",
       "    .dataframe thead th {\n",
       "        text-align: right;\n",
       "    }\n",
       "</style>\n",
       "<table border=\"1\" class=\"dataframe\">\n",
       "  <thead>\n",
       "    <tr style=\"text-align: right;\">\n",
       "      <th></th>\n",
       "      <th>precision</th>\n",
       "      <th>recall</th>\n",
       "    </tr>\n",
       "  </thead>\n",
       "  <tbody>\n",
       "    <tr>\n",
       "      <th>4</th>\n",
       "      <td>0.6</td>\n",
       "      <td>0.6</td>\n",
       "    </tr>\n",
       "  </tbody>\n",
       "</table>\n",
       "</div>"
      ],
      "text/plain": [
       "   precision  recall\n",
       "4        0.6     0.6"
      ]
     },
     "metadata": {},
     "output_type": "display_data"
    },
    {
     "data": {
      "text/html": [
       "<div>\n",
       "<style scoped>\n",
       "    .dataframe tbody tr th:only-of-type {\n",
       "        vertical-align: middle;\n",
       "    }\n",
       "\n",
       "    .dataframe tbody tr th {\n",
       "        vertical-align: top;\n",
       "    }\n",
       "\n",
       "    .dataframe thead th {\n",
       "        text-align: right;\n",
       "    }\n",
       "</style>\n",
       "<table border=\"1\" class=\"dataframe\">\n",
       "  <thead>\n",
       "    <tr style=\"text-align: right;\">\n",
       "      <th></th>\n",
       "      <th>0</th>\n",
       "    </tr>\n",
       "  </thead>\n",
       "  <tbody>\n",
       "    <tr>\n",
       "      <th>4</th>\n",
       "      <td>0.03</td>\n",
       "    </tr>\n",
       "  </tbody>\n",
       "</table>\n",
       "</div>"
      ],
      "text/plain": [
       "      0\n",
       "4  0.03"
      ]
     },
     "metadata": {},
     "output_type": "display_data"
    }
   ],
   "source": [
    "print('epochs 8')\n",
    "expname = 'binary_engbert_focal_4binary_classifiers'\n",
    "m,d = get_4binary_metrics(expname)\n",
    "display(pd.DataFrame(m).T)\n",
    "display(pd.DataFrame(d).T)"
   ]
  },
  {
   "cell_type": "code",
   "execution_count": 165,
   "metadata": {},
   "outputs": [
    {
     "name": "stdout",
     "output_type": "stream",
     "text": [
      "epochs 7\n"
     ]
    },
    {
     "data": {
      "text/html": [
       "<div>\n",
       "<style scoped>\n",
       "    .dataframe tbody tr th:only-of-type {\n",
       "        vertical-align: middle;\n",
       "    }\n",
       "\n",
       "    .dataframe tbody tr th {\n",
       "        vertical-align: top;\n",
       "    }\n",
       "\n",
       "    .dataframe thead th {\n",
       "        text-align: right;\n",
       "    }\n",
       "</style>\n",
       "<table border=\"1\" class=\"dataframe\">\n",
       "  <thead>\n",
       "    <tr style=\"text-align: right;\">\n",
       "      <th></th>\n",
       "      <th>precision</th>\n",
       "      <th>recall</th>\n",
       "    </tr>\n",
       "  </thead>\n",
       "  <tbody>\n",
       "    <tr>\n",
       "      <th>4</th>\n",
       "      <td>0.58824</td>\n",
       "      <td>0.67</td>\n",
       "    </tr>\n",
       "  </tbody>\n",
       "</table>\n",
       "</div>"
      ],
      "text/plain": [
       "   precision  recall\n",
       "4    0.58824    0.67"
      ]
     },
     "metadata": {},
     "output_type": "display_data"
    },
    {
     "data": {
      "text/html": [
       "<div>\n",
       "<style scoped>\n",
       "    .dataframe tbody tr th:only-of-type {\n",
       "        vertical-align: middle;\n",
       "    }\n",
       "\n",
       "    .dataframe tbody tr th {\n",
       "        vertical-align: top;\n",
       "    }\n",
       "\n",
       "    .dataframe thead th {\n",
       "        text-align: right;\n",
       "    }\n",
       "</style>\n",
       "<table border=\"1\" class=\"dataframe\">\n",
       "  <thead>\n",
       "    <tr style=\"text-align: right;\">\n",
       "      <th></th>\n",
       "      <th>0</th>\n",
       "    </tr>\n",
       "  </thead>\n",
       "  <tbody>\n",
       "    <tr>\n",
       "      <th>4</th>\n",
       "      <td>0.03</td>\n",
       "    </tr>\n",
       "  </tbody>\n",
       "</table>\n",
       "</div>"
      ],
      "text/plain": [
       "      0\n",
       "4  0.03"
      ]
     },
     "metadata": {},
     "output_type": "display_data"
    }
   ],
   "source": [
    "print('epochs 7')\n",
    "expname = 'binary_engbert_focal_4binary_classifiers'\n",
    "m,d = get_4binary_metrics(expname)\n",
    "display(pd.DataFrame(m).T)\n",
    "display(pd.DataFrame(d).T)"
   ]
  },
  {
   "cell_type": "code",
   "execution_count": 156,
   "metadata": {},
   "outputs": [
    {
     "name": "stdout",
     "output_type": "stream",
     "text": [
      "epochs 6\n"
     ]
    },
    {
     "data": {
      "text/html": [
       "<div>\n",
       "<style scoped>\n",
       "    .dataframe tbody tr th:only-of-type {\n",
       "        vertical-align: middle;\n",
       "    }\n",
       "\n",
       "    .dataframe tbody tr th {\n",
       "        vertical-align: top;\n",
       "    }\n",
       "\n",
       "    .dataframe thead th {\n",
       "        text-align: right;\n",
       "    }\n",
       "</style>\n",
       "<table border=\"1\" class=\"dataframe\">\n",
       "  <thead>\n",
       "    <tr style=\"text-align: right;\">\n",
       "      <th></th>\n",
       "      <th>precision</th>\n",
       "      <th>recall</th>\n",
       "    </tr>\n",
       "  </thead>\n",
       "  <tbody>\n",
       "    <tr>\n",
       "      <th>4</th>\n",
       "      <td>0.61111</td>\n",
       "      <td>0.73</td>\n",
       "    </tr>\n",
       "  </tbody>\n",
       "</table>\n",
       "</div>"
      ],
      "text/plain": [
       "   precision  recall\n",
       "4    0.61111    0.73"
      ]
     },
     "metadata": {},
     "output_type": "display_data"
    },
    {
     "data": {
      "text/html": [
       "<div>\n",
       "<style scoped>\n",
       "    .dataframe tbody tr th:only-of-type {\n",
       "        vertical-align: middle;\n",
       "    }\n",
       "\n",
       "    .dataframe tbody tr th {\n",
       "        vertical-align: top;\n",
       "    }\n",
       "\n",
       "    .dataframe thead th {\n",
       "        text-align: right;\n",
       "    }\n",
       "</style>\n",
       "<table border=\"1\" class=\"dataframe\">\n",
       "  <thead>\n",
       "    <tr style=\"text-align: right;\">\n",
       "      <th></th>\n",
       "      <th>0</th>\n",
       "    </tr>\n",
       "  </thead>\n",
       "  <tbody>\n",
       "    <tr>\n",
       "      <th>4</th>\n",
       "      <td>0.03</td>\n",
       "    </tr>\n",
       "  </tbody>\n",
       "</table>\n",
       "</div>"
      ],
      "text/plain": [
       "      0\n",
       "4  0.03"
      ]
     },
     "metadata": {},
     "output_type": "display_data"
    }
   ],
   "source": [
    "print('epochs 6')\n",
    "expname = 'binary_engbert_focal_4binary_classifiers'\n",
    "m,d = get_4binary_metrics(expname)\n",
    "display(pd.DataFrame(m).T)\n",
    "display(pd.DataFrame(d).T)"
   ]
  },
  {
   "cell_type": "code",
   "execution_count": 154,
   "metadata": {},
   "outputs": [
    {
     "name": "stdout",
     "output_type": "stream",
     "text": [
      "epochs 7\n"
     ]
    },
    {
     "data": {
      "text/html": [
       "<div>\n",
       "<style scoped>\n",
       "    .dataframe tbody tr th:only-of-type {\n",
       "        vertical-align: middle;\n",
       "    }\n",
       "\n",
       "    .dataframe tbody tr th {\n",
       "        vertical-align: top;\n",
       "    }\n",
       "\n",
       "    .dataframe thead th {\n",
       "        text-align: right;\n",
       "    }\n",
       "</style>\n",
       "<table border=\"1\" class=\"dataframe\">\n",
       "  <thead>\n",
       "    <tr style=\"text-align: right;\">\n",
       "      <th></th>\n",
       "      <th>precision</th>\n",
       "      <th>recall</th>\n",
       "    </tr>\n",
       "  </thead>\n",
       "  <tbody>\n",
       "    <tr>\n",
       "      <th>1</th>\n",
       "      <td>0.7</td>\n",
       "      <td>0.58</td>\n",
       "    </tr>\n",
       "  </tbody>\n",
       "</table>\n",
       "</div>"
      ],
      "text/plain": [
       "   precision  recall\n",
       "1        0.7    0.58"
      ]
     },
     "metadata": {},
     "output_type": "display_data"
    },
    {
     "data": {
      "text/html": [
       "<div>\n",
       "<style scoped>\n",
       "    .dataframe tbody tr th:only-of-type {\n",
       "        vertical-align: middle;\n",
       "    }\n",
       "\n",
       "    .dataframe tbody tr th {\n",
       "        vertical-align: top;\n",
       "    }\n",
       "\n",
       "    .dataframe thead th {\n",
       "        text-align: right;\n",
       "    }\n",
       "</style>\n",
       "<table border=\"1\" class=\"dataframe\">\n",
       "  <thead>\n",
       "    <tr style=\"text-align: right;\">\n",
       "      <th></th>\n",
       "      <th>0</th>\n",
       "    </tr>\n",
       "  </thead>\n",
       "  <tbody>\n",
       "    <tr>\n",
       "      <th>1</th>\n",
       "      <td>0.02</td>\n",
       "    </tr>\n",
       "  </tbody>\n",
       "</table>\n",
       "</div>"
      ],
      "text/plain": [
       "      0\n",
       "1  0.02"
      ]
     },
     "metadata": {},
     "output_type": "display_data"
    }
   ],
   "source": [
    "print('epochs 7')\n",
    "expname = 'binary_engbert_focal_4binary_classifiers'\n",
    "m,d = get_4binary_metrics(expname)\n",
    "display(pd.DataFrame(m).T)\n",
    "display(pd.DataFrame(d).T)"
   ]
  },
  {
   "cell_type": "code",
   "execution_count": 153,
   "metadata": {},
   "outputs": [
    {
     "name": "stdout",
     "output_type": "stream",
     "text": [
      "epochs 9\n"
     ]
    },
    {
     "data": {
      "text/html": [
       "<div>\n",
       "<style scoped>\n",
       "    .dataframe tbody tr th:only-of-type {\n",
       "        vertical-align: middle;\n",
       "    }\n",
       "\n",
       "    .dataframe tbody tr th {\n",
       "        vertical-align: top;\n",
       "    }\n",
       "\n",
       "    .dataframe thead th {\n",
       "        text-align: right;\n",
       "    }\n",
       "</style>\n",
       "<table border=\"1\" class=\"dataframe\">\n",
       "  <thead>\n",
       "    <tr style=\"text-align: right;\">\n",
       "      <th></th>\n",
       "      <th>precision</th>\n",
       "      <th>recall</th>\n",
       "    </tr>\n",
       "  </thead>\n",
       "  <tbody>\n",
       "    <tr>\n",
       "      <th>1</th>\n",
       "      <td>0.7</td>\n",
       "      <td>0.58</td>\n",
       "    </tr>\n",
       "  </tbody>\n",
       "</table>\n",
       "</div>"
      ],
      "text/plain": [
       "   precision  recall\n",
       "1        0.7    0.58"
      ]
     },
     "metadata": {},
     "output_type": "display_data"
    },
    {
     "data": {
      "text/html": [
       "<div>\n",
       "<style scoped>\n",
       "    .dataframe tbody tr th:only-of-type {\n",
       "        vertical-align: middle;\n",
       "    }\n",
       "\n",
       "    .dataframe tbody tr th {\n",
       "        vertical-align: top;\n",
       "    }\n",
       "\n",
       "    .dataframe thead th {\n",
       "        text-align: right;\n",
       "    }\n",
       "</style>\n",
       "<table border=\"1\" class=\"dataframe\">\n",
       "  <thead>\n",
       "    <tr style=\"text-align: right;\">\n",
       "      <th></th>\n",
       "      <th>0</th>\n",
       "    </tr>\n",
       "  </thead>\n",
       "  <tbody>\n",
       "    <tr>\n",
       "      <th>1</th>\n",
       "      <td>0.02</td>\n",
       "    </tr>\n",
       "  </tbody>\n",
       "</table>\n",
       "</div>"
      ],
      "text/plain": [
       "      0\n",
       "1  0.02"
      ]
     },
     "metadata": {},
     "output_type": "display_data"
    }
   ],
   "source": [
    "print('epochs 9')\n",
    "expname = 'binary_engbert_focal_4binary_classifiers'\n",
    "m,d = get_4binary_metrics(expname)\n",
    "display(pd.DataFrame(m).T)\n",
    "display(pd.DataFrame(d).T)"
   ]
  },
  {
   "cell_type": "code",
   "execution_count": 151,
   "metadata": {},
   "outputs": [
    {
     "name": "stdout",
     "output_type": "stream",
     "text": [
      "epochs 6 frame 2\n"
     ]
    },
    {
     "data": {
      "text/html": [
       "<div>\n",
       "<style scoped>\n",
       "    .dataframe tbody tr th:only-of-type {\n",
       "        vertical-align: middle;\n",
       "    }\n",
       "\n",
       "    .dataframe tbody tr th {\n",
       "        vertical-align: top;\n",
       "    }\n",
       "\n",
       "    .dataframe thead th {\n",
       "        text-align: right;\n",
       "    }\n",
       "</style>\n",
       "<table border=\"1\" class=\"dataframe\">\n",
       "  <thead>\n",
       "    <tr style=\"text-align: right;\">\n",
       "      <th></th>\n",
       "      <th>precision</th>\n",
       "      <th>recall</th>\n",
       "    </tr>\n",
       "  </thead>\n",
       "  <tbody>\n",
       "    <tr>\n",
       "      <th>2</th>\n",
       "      <td>0.77778</td>\n",
       "      <td>0.93</td>\n",
       "    </tr>\n",
       "  </tbody>\n",
       "</table>\n",
       "</div>"
      ],
      "text/plain": [
       "   precision  recall\n",
       "2    0.77778    0.93"
      ]
     },
     "metadata": {},
     "output_type": "display_data"
    },
    {
     "data": {
      "text/html": [
       "<div>\n",
       "<style scoped>\n",
       "    .dataframe tbody tr th:only-of-type {\n",
       "        vertical-align: middle;\n",
       "    }\n",
       "\n",
       "    .dataframe tbody tr th {\n",
       "        vertical-align: top;\n",
       "    }\n",
       "\n",
       "    .dataframe thead th {\n",
       "        text-align: right;\n",
       "    }\n",
       "</style>\n",
       "<table border=\"1\" class=\"dataframe\">\n",
       "  <thead>\n",
       "    <tr style=\"text-align: right;\">\n",
       "      <th></th>\n",
       "      <th>0</th>\n",
       "    </tr>\n",
       "  </thead>\n",
       "  <tbody>\n",
       "    <tr>\n",
       "      <th>2</th>\n",
       "      <td>0.12</td>\n",
       "    </tr>\n",
       "  </tbody>\n",
       "</table>\n",
       "</div>"
      ],
      "text/plain": [
       "      0\n",
       "2  0.12"
      ]
     },
     "metadata": {},
     "output_type": "display_data"
    }
   ],
   "source": [
    "print('epochs 6 frame 2')\n",
    "expname = 'binary_engbert_focal_4binary_classifiers'\n",
    "m,d = get_4binary_metrics(expname)\n",
    "display(pd.DataFrame(m).T)\n",
    "display(pd.DataFrame(d).T)"
   ]
  },
  {
   "cell_type": "code",
   "execution_count": 150,
   "metadata": {},
   "outputs": [
    {
     "name": "stdout",
     "output_type": "stream",
     "text": [
      "epochs 7 frame 2\n"
     ]
    },
    {
     "data": {
      "text/html": [
       "<div>\n",
       "<style scoped>\n",
       "    .dataframe tbody tr th:only-of-type {\n",
       "        vertical-align: middle;\n",
       "    }\n",
       "\n",
       "    .dataframe tbody tr th {\n",
       "        vertical-align: top;\n",
       "    }\n",
       "\n",
       "    .dataframe thead th {\n",
       "        text-align: right;\n",
       "    }\n",
       "</style>\n",
       "<table border=\"1\" class=\"dataframe\">\n",
       "  <thead>\n",
       "    <tr style=\"text-align: right;\">\n",
       "      <th></th>\n",
       "      <th>precision</th>\n",
       "      <th>recall</th>\n",
       "    </tr>\n",
       "  </thead>\n",
       "  <tbody>\n",
       "    <tr>\n",
       "      <th>2</th>\n",
       "      <td>0.78261</td>\n",
       "      <td>0.9</td>\n",
       "    </tr>\n",
       "  </tbody>\n",
       "</table>\n",
       "</div>"
      ],
      "text/plain": [
       "   precision  recall\n",
       "2    0.78261     0.9"
      ]
     },
     "metadata": {},
     "output_type": "display_data"
    },
    {
     "data": {
      "text/html": [
       "<div>\n",
       "<style scoped>\n",
       "    .dataframe tbody tr th:only-of-type {\n",
       "        vertical-align: middle;\n",
       "    }\n",
       "\n",
       "    .dataframe tbody tr th {\n",
       "        vertical-align: top;\n",
       "    }\n",
       "\n",
       "    .dataframe thead th {\n",
       "        text-align: right;\n",
       "    }\n",
       "</style>\n",
       "<table border=\"1\" class=\"dataframe\">\n",
       "  <thead>\n",
       "    <tr style=\"text-align: right;\">\n",
       "      <th></th>\n",
       "      <th>0</th>\n",
       "    </tr>\n",
       "  </thead>\n",
       "  <tbody>\n",
       "    <tr>\n",
       "      <th>2</th>\n",
       "      <td>0.12</td>\n",
       "    </tr>\n",
       "  </tbody>\n",
       "</table>\n",
       "</div>"
      ],
      "text/plain": [
       "      0\n",
       "2  0.12"
      ]
     },
     "metadata": {},
     "output_type": "display_data"
    }
   ],
   "source": [
    "print('epochs 7 frame 2')\n",
    "expname = 'binary_engbert_focal_4binary_classifiers'\n",
    "m,d = get_4binary_metrics(expname)\n",
    "display(pd.DataFrame(m).T)\n",
    "display(pd.DataFrame(d).T)"
   ]
  },
  {
   "cell_type": "code",
   "execution_count": 149,
   "metadata": {},
   "outputs": [
    {
     "name": "stdout",
     "output_type": "stream",
     "text": [
      "epochs 9\n"
     ]
    },
    {
     "data": {
      "text/html": [
       "<div>\n",
       "<style scoped>\n",
       "    .dataframe tbody tr th:only-of-type {\n",
       "        vertical-align: middle;\n",
       "    }\n",
       "\n",
       "    .dataframe tbody tr th {\n",
       "        vertical-align: top;\n",
       "    }\n",
       "\n",
       "    .dataframe thead th {\n",
       "        text-align: right;\n",
       "    }\n",
       "</style>\n",
       "<table border=\"1\" class=\"dataframe\">\n",
       "  <thead>\n",
       "    <tr style=\"text-align: right;\">\n",
       "      <th></th>\n",
       "      <th>precision</th>\n",
       "      <th>recall</th>\n",
       "    </tr>\n",
       "  </thead>\n",
       "  <tbody>\n",
       "    <tr>\n",
       "      <th>2</th>\n",
       "      <td>0.71429</td>\n",
       "      <td>0.92</td>\n",
       "    </tr>\n",
       "  </tbody>\n",
       "</table>\n",
       "</div>"
      ],
      "text/plain": [
       "   precision  recall\n",
       "2    0.71429    0.92"
      ]
     },
     "metadata": {},
     "output_type": "display_data"
    },
    {
     "data": {
      "text/html": [
       "<div>\n",
       "<style scoped>\n",
       "    .dataframe tbody tr th:only-of-type {\n",
       "        vertical-align: middle;\n",
       "    }\n",
       "\n",
       "    .dataframe tbody tr th {\n",
       "        vertical-align: top;\n",
       "    }\n",
       "\n",
       "    .dataframe thead th {\n",
       "        text-align: right;\n",
       "    }\n",
       "</style>\n",
       "<table border=\"1\" class=\"dataframe\">\n",
       "  <thead>\n",
       "    <tr style=\"text-align: right;\">\n",
       "      <th></th>\n",
       "      <th>0</th>\n",
       "    </tr>\n",
       "  </thead>\n",
       "  <tbody>\n",
       "    <tr>\n",
       "      <th>2</th>\n",
       "      <td>0.12</td>\n",
       "    </tr>\n",
       "  </tbody>\n",
       "</table>\n",
       "</div>"
      ],
      "text/plain": [
       "      0\n",
       "2  0.12"
      ]
     },
     "metadata": {},
     "output_type": "display_data"
    }
   ],
   "source": [
    "print('epochs 9 frame 1')\n",
    "expname = 'binary_engbert_focal_4binary_classifiers'\n",
    "m,d = get_4binary_metrics(expname)\n",
    "display(pd.DataFrame(m).T)\n",
    "display(pd.DataFrame(d).T)"
   ]
  },
  {
   "cell_type": "code",
   "execution_count": 142,
   "metadata": {
    "scrolled": true
   },
   "outputs": [
    {
     "data": {
      "text/html": [
       "<div>\n",
       "<style scoped>\n",
       "    .dataframe tbody tr th:only-of-type {\n",
       "        vertical-align: middle;\n",
       "    }\n",
       "\n",
       "    .dataframe tbody tr th {\n",
       "        vertical-align: top;\n",
       "    }\n",
       "\n",
       "    .dataframe thead th {\n",
       "        text-align: right;\n",
       "    }\n",
       "</style>\n",
       "<table border=\"1\" class=\"dataframe\">\n",
       "  <thead>\n",
       "    <tr style=\"text-align: right;\">\n",
       "      <th></th>\n",
       "      <th>precision</th>\n",
       "      <th>recall</th>\n",
       "    </tr>\n",
       "  </thead>\n",
       "  <tbody>\n",
       "    <tr>\n",
       "      <th>1</th>\n",
       "      <td>0.70000</td>\n",
       "      <td>0.58</td>\n",
       "    </tr>\n",
       "    <tr>\n",
       "      <th>2</th>\n",
       "      <td>0.71795</td>\n",
       "      <td>0.93</td>\n",
       "    </tr>\n",
       "  </tbody>\n",
       "</table>\n",
       "</div>"
      ],
      "text/plain": [
       "   precision  recall\n",
       "1    0.70000    0.58\n",
       "2    0.71795    0.93"
      ]
     },
     "metadata": {},
     "output_type": "display_data"
    },
    {
     "data": {
      "text/html": [
       "<div>\n",
       "<style scoped>\n",
       "    .dataframe tbody tr th:only-of-type {\n",
       "        vertical-align: middle;\n",
       "    }\n",
       "\n",
       "    .dataframe tbody tr th {\n",
       "        vertical-align: top;\n",
       "    }\n",
       "\n",
       "    .dataframe thead th {\n",
       "        text-align: right;\n",
       "    }\n",
       "</style>\n",
       "<table border=\"1\" class=\"dataframe\">\n",
       "  <thead>\n",
       "    <tr style=\"text-align: right;\">\n",
       "      <th></th>\n",
       "      <th>0</th>\n",
       "    </tr>\n",
       "  </thead>\n",
       "  <tbody>\n",
       "    <tr>\n",
       "      <th>1</th>\n",
       "      <td>0.02</td>\n",
       "    </tr>\n",
       "    <tr>\n",
       "      <th>2</th>\n",
       "      <td>0.12</td>\n",
       "    </tr>\n",
       "  </tbody>\n",
       "</table>\n",
       "</div>"
      ],
      "text/plain": [
       "      0\n",
       "1  0.02\n",
       "2  0.12"
      ]
     },
     "metadata": {},
     "output_type": "display_data"
    }
   ],
   "source": [
    "print('epochs 8')\n",
    "expname = 'binary_engbert_focal_4binary_classifiers'\n",
    "m,d = get_4binary_metrics(expname)\n",
    "display(pd.DataFrame(m).T)\n",
    "display(pd.DataFrame(d).T)"
   ]
  },
  {
   "cell_type": "code",
   "execution_count": 30,
   "metadata": {
    "scrolled": true
   },
   "outputs": [
    {
     "name": "stdout",
     "output_type": "stream",
     "text": [
      "Frame 1 in fold 0 is never predicted.\n"
     ]
    },
    {
     "name": "stderr",
     "output_type": "stream",
     "text": [
      "/share/pkg.7/python3/3.7.3/install/lib/python3.7/site-packages/sklearn/metrics/classification.py:1437: UndefinedMetricWarning: Precision is ill-defined and being set to 0.0 due to no predicted samples.\n",
      "  'precision', 'predicted', average, warn_for)\n"
     ]
    },
    {
     "data": {
      "text/html": [
       "<div>\n",
       "<style scoped>\n",
       "    .dataframe tbody tr th:only-of-type {\n",
       "        vertical-align: middle;\n",
       "    }\n",
       "\n",
       "    .dataframe tbody tr th {\n",
       "        vertical-align: top;\n",
       "    }\n",
       "\n",
       "    .dataframe thead th {\n",
       "        text-align: right;\n",
       "    }\n",
       "</style>\n",
       "<table border=\"1\" class=\"dataframe\">\n",
       "  <thead>\n",
       "    <tr style=\"text-align: right;\">\n",
       "      <th></th>\n",
       "      <th>precision</th>\n",
       "      <th>recall</th>\n",
       "    </tr>\n",
       "  </thead>\n",
       "  <tbody>\n",
       "    <tr>\n",
       "      <th>1</th>\n",
       "      <td>0.08</td>\n",
       "      <td>0.02</td>\n",
       "    </tr>\n",
       "    <tr>\n",
       "      <th>2</th>\n",
       "      <td>0.12</td>\n",
       "      <td>0.06</td>\n",
       "    </tr>\n",
       "    <tr>\n",
       "      <th>4</th>\n",
       "      <td>0.72</td>\n",
       "      <td>0.56</td>\n",
       "    </tr>\n",
       "    <tr>\n",
       "      <th>5</th>\n",
       "      <td>0.76</td>\n",
       "      <td>0.67</td>\n",
       "    </tr>\n",
       "  </tbody>\n",
       "</table>\n",
       "</div>"
      ],
      "text/plain": [
       "   precision  recall\n",
       "1       0.08    0.02\n",
       "2       0.12    0.06\n",
       "4       0.72    0.56\n",
       "5       0.76    0.67"
      ]
     },
     "metadata": {},
     "output_type": "display_data"
    },
    {
     "data": {
      "text/html": [
       "<div>\n",
       "<style scoped>\n",
       "    .dataframe tbody tr th:only-of-type {\n",
       "        vertical-align: middle;\n",
       "    }\n",
       "\n",
       "    .dataframe tbody tr th {\n",
       "        vertical-align: top;\n",
       "    }\n",
       "\n",
       "    .dataframe thead th {\n",
       "        text-align: right;\n",
       "    }\n",
       "</style>\n",
       "<table border=\"1\" class=\"dataframe\">\n",
       "  <thead>\n",
       "    <tr style=\"text-align: right;\">\n",
       "      <th></th>\n",
       "      <th>0</th>\n",
       "      <th>1</th>\n",
       "      <th>2</th>\n",
       "      <th>3</th>\n",
       "      <th>4</th>\n",
       "    </tr>\n",
       "  </thead>\n",
       "  <tbody>\n",
       "    <tr>\n",
       "      <th>1</th>\n",
       "      <td>0.02</td>\n",
       "      <td>0.03</td>\n",
       "      <td>0.03</td>\n",
       "      <td>0.02</td>\n",
       "      <td>0.03</td>\n",
       "    </tr>\n",
       "    <tr>\n",
       "      <th>2</th>\n",
       "      <td>0.12</td>\n",
       "      <td>0.14</td>\n",
       "      <td>0.11</td>\n",
       "      <td>0.14</td>\n",
       "      <td>0.13</td>\n",
       "    </tr>\n",
       "    <tr>\n",
       "      <th>4</th>\n",
       "      <td>0.03</td>\n",
       "      <td>0.03</td>\n",
       "      <td>0.04</td>\n",
       "      <td>0.03</td>\n",
       "      <td>0.03</td>\n",
       "    </tr>\n",
       "    <tr>\n",
       "      <th>5</th>\n",
       "      <td>0.07</td>\n",
       "      <td>0.07</td>\n",
       "      <td>0.07</td>\n",
       "      <td>0.08</td>\n",
       "      <td>0.07</td>\n",
       "    </tr>\n",
       "  </tbody>\n",
       "</table>\n",
       "</div>"
      ],
      "text/plain": [
       "      0     1     2     3     4\n",
       "1  0.02  0.03  0.03  0.02  0.03\n",
       "2  0.12  0.14  0.11  0.14  0.13\n",
       "4  0.03  0.03  0.04  0.03  0.03\n",
       "5  0.07  0.07  0.07  0.08  0.07"
      ]
     },
     "metadata": {},
     "output_type": "display_data"
    }
   ],
   "source": [
    "expname = 'binary_engbert_focal_4binary_classifiers'\n",
    "m,d = get_4binary_metrics(expname)\n",
    "display(pd.DataFrame(m).T)\n",
    "display(pd.DataFrame(d).T)"
   ]
  },
  {
   "cell_type": "code",
   "execution_count": 114,
   "metadata": {},
   "outputs": [
    {
     "data": {
      "text/html": [
       "<div>\n",
       "<style scoped>\n",
       "    .dataframe tbody tr th:only-of-type {\n",
       "        vertical-align: middle;\n",
       "    }\n",
       "\n",
       "    .dataframe tbody tr th {\n",
       "        vertical-align: top;\n",
       "    }\n",
       "\n",
       "    .dataframe thead th {\n",
       "        text-align: right;\n",
       "    }\n",
       "</style>\n",
       "<table border=\"1\" class=\"dataframe\">\n",
       "  <thead>\n",
       "    <tr style=\"text-align: right;\">\n",
       "      <th></th>\n",
       "      <th>precision</th>\n",
       "      <th>recall</th>\n",
       "    </tr>\n",
       "  </thead>\n",
       "  <tbody>\n",
       "    <tr>\n",
       "      <th>1</th>\n",
       "      <td>0.86</td>\n",
       "      <td>0.69</td>\n",
       "    </tr>\n",
       "    <tr>\n",
       "      <th>2</th>\n",
       "      <td>0.82</td>\n",
       "      <td>0.97</td>\n",
       "    </tr>\n",
       "    <tr>\n",
       "      <th>4</th>\n",
       "      <td>0.36</td>\n",
       "      <td>0.82</td>\n",
       "    </tr>\n",
       "    <tr>\n",
       "      <th>5</th>\n",
       "      <td>0.59</td>\n",
       "      <td>0.82</td>\n",
       "    </tr>\n",
       "  </tbody>\n",
       "</table>\n",
       "</div>"
      ],
      "text/plain": [
       "   precision  recall\n",
       "1       0.86    0.69\n",
       "2       0.82    0.97\n",
       "4       0.36    0.82\n",
       "5       0.59    0.82"
      ]
     },
     "metadata": {},
     "output_type": "display_data"
    },
    {
     "data": {
      "text/plain": [
       "1    0.026\n",
       "2    0.128\n",
       "4    0.032\n",
       "5    0.072\n",
       "dtype: float64"
      ]
     },
     "metadata": {},
     "output_type": "display_data"
    }
   ],
   "source": [
    "# evaluating 9binary multiberts on our test set\n",
    "expname = 'binary_multibert_focal_9binary_classifiers_for_4_frames'\n",
    "m,d = get_4binary_metrics(expname)\n",
    "display(pd.DataFrame(m).T)\n",
    "display(pd.DataFrame(d).T.mean(axis=1))"
   ]
  },
  {
   "cell_type": "code",
   "execution_count": 109,
   "metadata": {},
   "outputs": [],
   "source": [
    "# get the distributions of classes in a set\n",
    "def get_data_dists(path, train):\n",
    "    dists = {}\n",
    "    ratio_99_list = np.zeros(5)\n",
    "    for i in range(5):\n",
    "        file = 'train.tsv' if train else 'dev.tsv'\n",
    "        filename = os.path.join(path, str(i), file)\n",
    "        df = pd.read_csv(filename, sep='\\t', header=None)\n",
    "        df = df[np.arange(3,12)]\n",
    "        df.columns = np.arange(1,10)\n",
    "        dists[i] = df.mean(axis=0).round(2)\n",
    "        ratio_99 = (df.sum(axis=1)==0).sum()/len(df)\n",
    "        ratio_99_list[i]= ratio_99\n",
    "        print(\"Number of non-thematic frames in %s for fold %d is %.4f\" % (file,i,ratio_99))\n",
    "    return dists, ratio_99_list"
   ]
  },
  {
   "cell_type": "code",
   "execution_count": 111,
   "metadata": {
    "scrolled": false
   },
   "outputs": [
    {
     "name": "stdout",
     "output_type": "stream",
     "text": [
      "Number of non-thematic frames in dev.tsv for fold 0 is 0.4922\n",
      "Number of non-thematic frames in dev.tsv for fold 1 is 0.4931\n",
      "Number of non-thematic frames in dev.tsv for fold 2 is 0.4931\n",
      "Number of non-thematic frames in dev.tsv for fold 3 is 0.4960\n",
      "Number of non-thematic frames in dev.tsv for fold 4 is 0.4980\n",
      "Mean ratio_99 over folds is 0.4945\n"
     ]
    },
    {
     "data": {
      "text/html": [
       "<div>\n",
       "<style scoped>\n",
       "    .dataframe tbody tr th:only-of-type {\n",
       "        vertical-align: middle;\n",
       "    }\n",
       "\n",
       "    .dataframe tbody tr th {\n",
       "        vertical-align: top;\n",
       "    }\n",
       "\n",
       "    .dataframe thead th {\n",
       "        text-align: right;\n",
       "    }\n",
       "</style>\n",
       "<table border=\"1\" class=\"dataframe\">\n",
       "  <thead>\n",
       "    <tr style=\"text-align: right;\">\n",
       "      <th></th>\n",
       "      <th>0</th>\n",
       "      <th>1</th>\n",
       "      <th>2</th>\n",
       "      <th>3</th>\n",
       "      <th>4</th>\n",
       "    </tr>\n",
       "  </thead>\n",
       "  <tbody>\n",
       "    <tr>\n",
       "      <th>1</th>\n",
       "      <td>0.02</td>\n",
       "      <td>0.03</td>\n",
       "      <td>0.03</td>\n",
       "      <td>0.02</td>\n",
       "      <td>0.03</td>\n",
       "    </tr>\n",
       "    <tr>\n",
       "      <th>2</th>\n",
       "      <td>0.12</td>\n",
       "      <td>0.14</td>\n",
       "      <td>0.11</td>\n",
       "      <td>0.14</td>\n",
       "      <td>0.13</td>\n",
       "    </tr>\n",
       "    <tr>\n",
       "      <th>3</th>\n",
       "      <td>0.17</td>\n",
       "      <td>0.17</td>\n",
       "      <td>0.17</td>\n",
       "      <td>0.17</td>\n",
       "      <td>0.17</td>\n",
       "    </tr>\n",
       "    <tr>\n",
       "      <th>4</th>\n",
       "      <td>0.03</td>\n",
       "      <td>0.03</td>\n",
       "      <td>0.04</td>\n",
       "      <td>0.03</td>\n",
       "      <td>0.03</td>\n",
       "    </tr>\n",
       "    <tr>\n",
       "      <th>5</th>\n",
       "      <td>0.07</td>\n",
       "      <td>0.07</td>\n",
       "      <td>0.07</td>\n",
       "      <td>0.08</td>\n",
       "      <td>0.07</td>\n",
       "    </tr>\n",
       "    <tr>\n",
       "      <th>6</th>\n",
       "      <td>0.05</td>\n",
       "      <td>0.04</td>\n",
       "      <td>0.05</td>\n",
       "      <td>0.05</td>\n",
       "      <td>0.04</td>\n",
       "    </tr>\n",
       "    <tr>\n",
       "      <th>7</th>\n",
       "      <td>0.10</td>\n",
       "      <td>0.10</td>\n",
       "      <td>0.11</td>\n",
       "      <td>0.10</td>\n",
       "      <td>0.10</td>\n",
       "    </tr>\n",
       "    <tr>\n",
       "      <th>8</th>\n",
       "      <td>0.02</td>\n",
       "      <td>0.02</td>\n",
       "      <td>0.02</td>\n",
       "      <td>0.02</td>\n",
       "      <td>0.02</td>\n",
       "    </tr>\n",
       "    <tr>\n",
       "      <th>9</th>\n",
       "      <td>0.04</td>\n",
       "      <td>0.03</td>\n",
       "      <td>0.04</td>\n",
       "      <td>0.04</td>\n",
       "      <td>0.04</td>\n",
       "    </tr>\n",
       "  </tbody>\n",
       "</table>\n",
       "</div>"
      ],
      "text/plain": [
       "      0     1     2     3     4\n",
       "1  0.02  0.03  0.03  0.02  0.03\n",
       "2  0.12  0.14  0.11  0.14  0.13\n",
       "3  0.17  0.17  0.17  0.17  0.17\n",
       "4  0.03  0.03  0.04  0.03  0.03\n",
       "5  0.07  0.07  0.07  0.08  0.07\n",
       "6  0.05  0.04  0.05  0.05  0.04\n",
       "7  0.10  0.10  0.11  0.10  0.10\n",
       "8  0.02  0.02  0.02  0.02  0.02\n",
       "9  0.04  0.03  0.04  0.04  0.04"
      ]
     },
     "metadata": {},
     "output_type": "display_data"
    }
   ],
   "source": [
    "#using frame1 since data under all frame folders are the same\n",
    "path = os.path.join(\"/usr4/cs591/akyurek/link/transformers/lei/dataset/frame1\")\n",
    "\n",
    "dists, ratio_99_list = get_data_dists(path, False)\n",
    "print(\"Mean ratio_99 over folds is %.4f\" % ratio_99_list.mean())\n",
    "display(pd.DataFrame(dists))\n"
   ]
  },
  {
   "cell_type": "code",
   "execution_count": 113,
   "metadata": {},
   "outputs": [
    {
     "name": "stdout",
     "output_type": "stream",
     "text": [
      "Number of non-thematic frames in train.tsv for fold 0 is 0.4762\n",
      "Number of non-thematic frames in train.tsv for fold 1 is 0.4723\n",
      "Number of non-thematic frames in train.tsv for fold 2 is 0.4815\n",
      "Number of non-thematic frames in train.tsv for fold 3 is 0.4723\n",
      "Number of non-thematic frames in train.tsv for fold 4 is 0.4815\n",
      "Mean ratio_99 over folds is 0.4768\n"
     ]
    },
    {
     "data": {
      "text/html": [
       "<div>\n",
       "<style scoped>\n",
       "    .dataframe tbody tr th:only-of-type {\n",
       "        vertical-align: middle;\n",
       "    }\n",
       "\n",
       "    .dataframe tbody tr th {\n",
       "        vertical-align: top;\n",
       "    }\n",
       "\n",
       "    .dataframe thead th {\n",
       "        text-align: right;\n",
       "    }\n",
       "</style>\n",
       "<table border=\"1\" class=\"dataframe\">\n",
       "  <thead>\n",
       "    <tr style=\"text-align: right;\">\n",
       "      <th></th>\n",
       "      <th>0</th>\n",
       "      <th>1</th>\n",
       "      <th>2</th>\n",
       "      <th>3</th>\n",
       "      <th>4</th>\n",
       "    </tr>\n",
       "  </thead>\n",
       "  <tbody>\n",
       "    <tr>\n",
       "      <th>1</th>\n",
       "      <td>0.04</td>\n",
       "      <td>0.04</td>\n",
       "      <td>0.04</td>\n",
       "      <td>0.04</td>\n",
       "      <td>0.04</td>\n",
       "    </tr>\n",
       "    <tr>\n",
       "      <th>2</th>\n",
       "      <td>0.13</td>\n",
       "      <td>0.13</td>\n",
       "      <td>0.14</td>\n",
       "      <td>0.14</td>\n",
       "      <td>0.12</td>\n",
       "    </tr>\n",
       "    <tr>\n",
       "      <th>3</th>\n",
       "      <td>0.17</td>\n",
       "      <td>0.18</td>\n",
       "      <td>0.17</td>\n",
       "      <td>0.17</td>\n",
       "      <td>0.18</td>\n",
       "    </tr>\n",
       "    <tr>\n",
       "      <th>4</th>\n",
       "      <td>0.03</td>\n",
       "      <td>0.03</td>\n",
       "      <td>0.03</td>\n",
       "      <td>0.03</td>\n",
       "      <td>0.03</td>\n",
       "    </tr>\n",
       "    <tr>\n",
       "      <th>5</th>\n",
       "      <td>0.08</td>\n",
       "      <td>0.07</td>\n",
       "      <td>0.07</td>\n",
       "      <td>0.07</td>\n",
       "      <td>0.07</td>\n",
       "    </tr>\n",
       "    <tr>\n",
       "      <th>6</th>\n",
       "      <td>0.04</td>\n",
       "      <td>0.06</td>\n",
       "      <td>0.05</td>\n",
       "      <td>0.05</td>\n",
       "      <td>0.05</td>\n",
       "    </tr>\n",
       "    <tr>\n",
       "      <th>7</th>\n",
       "      <td>0.11</td>\n",
       "      <td>0.10</td>\n",
       "      <td>0.10</td>\n",
       "      <td>0.11</td>\n",
       "      <td>0.10</td>\n",
       "    </tr>\n",
       "    <tr>\n",
       "      <th>8</th>\n",
       "      <td>0.02</td>\n",
       "      <td>0.02</td>\n",
       "      <td>0.02</td>\n",
       "      <td>0.02</td>\n",
       "      <td>0.02</td>\n",
       "    </tr>\n",
       "    <tr>\n",
       "      <th>9</th>\n",
       "      <td>0.04</td>\n",
       "      <td>0.04</td>\n",
       "      <td>0.04</td>\n",
       "      <td>0.04</td>\n",
       "      <td>0.05</td>\n",
       "    </tr>\n",
       "  </tbody>\n",
       "</table>\n",
       "</div>"
      ],
      "text/plain": [
       "      0     1     2     3     4\n",
       "1  0.04  0.04  0.04  0.04  0.04\n",
       "2  0.13  0.13  0.14  0.14  0.12\n",
       "3  0.17  0.18  0.17  0.17  0.18\n",
       "4  0.03  0.03  0.03  0.03  0.03\n",
       "5  0.08  0.07  0.07  0.07  0.07\n",
       "6  0.04  0.06  0.05  0.05  0.05\n",
       "7  0.11  0.10  0.10  0.11  0.10\n",
       "8  0.02  0.02  0.02  0.02  0.02\n",
       "9  0.04  0.04  0.04  0.04  0.05"
      ]
     },
     "metadata": {},
     "output_type": "display_data"
    }
   ],
   "source": [
    "#using frame1 since data under all frame folders are the same\n",
    "path = os.path.join(\"/usr4/cs591/akyurek/link/transformers/lei/dataset/frame1\")\n",
    "\n",
    "dists, ratio_99_list = get_data_dists(path, True)\n",
    "print(\"Mean ratio_99 over folds is %.4f\" % ratio_99_list.mean())\n",
    "display(pd.DataFrame(dists))"
   ]
  },
  {
   "cell_type": "code",
   "execution_count": null,
   "metadata": {},
   "outputs": [],
   "source": []
  },
  {
   "cell_type": "code",
   "execution_count": 14,
   "metadata": {},
   "outputs": [],
   "source": [
    "def plot_distribution_predictions(results):\n",
    "    # draw the distribution of predicted probabilities\n",
    "    df = pd.DataFrame(results)\n",
    "    df.columns = [str(i+1) for i in np.arange(9)]\n",
    "    ax1 = df.plot.line(xlim = (0,100))\n",
    "    ax1.set_ylabel(\"Predicted Probabilities\")\n",
    "    ax1.set_xlabel(\"Test Samples\")\n",
    "    ax2 = df.plot.density(xlim=(-.2,.3), ylim=(0,85))\n",
    "    ax2.set_xlabel(\"Predicted Probabilities\")"
   ]
  },
  {
   "cell_type": "code",
   "execution_count": null,
   "metadata": {},
   "outputs": [],
   "source": [
    "# paired t test\n",
    "from scipy import stats\n",
    "stats.ttest_rel(rvs1,rvs2)"
   ]
  }
 ],
 "metadata": {
  "kernelspec": {
   "display_name": "Python 3",
   "language": "python",
   "name": "python3"
  },
  "language_info": {
   "codemirror_mode": {
    "name": "ipython",
    "version": 3
   },
   "file_extension": ".py",
   "mimetype": "text/x-python",
   "name": "python",
   "nbconvert_exporter": "python",
   "pygments_lexer": "ipython3",
   "version": "3.7.3"
  }
 },
 "nbformat": 4,
 "nbformat_minor": 2
}
