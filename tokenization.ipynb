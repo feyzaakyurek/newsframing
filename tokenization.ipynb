{
 "cells": [
  {
   "cell_type": "code",
   "execution_count": 2,
   "metadata": {},
   "outputs": [
    {
     "name": "stderr",
     "output_type": "stream",
     "text": [
      "I1023 11:41:11.398996 47366795012544 file_utils.py:39] PyTorch version 1.1.0 available.\n",
      "I1023 11:41:23.280973 47366795012544 modeling_xlnet.py:194] Better speed can be achieved with apex installed from https://www.github.com/nvidia/apex .\n"
     ]
    }
   ],
   "source": [
    "import torch\n",
    "from transformers import BertTokenizer"
   ]
  },
  {
   "cell_type": "code",
   "execution_count": 3,
   "metadata": {},
   "outputs": [
    {
     "name": "stderr",
     "output_type": "stream",
     "text": [
      "I1023 11:41:26.049680 47366795012544 tokenization_utils.py:373] loading file https://s3.amazonaws.com/models.huggingface.co/bert/bert-base-multilingual-cased-vocab.txt from cache at /usr4/cs591/akyurek/.cache/torch/transformers/96435fa287fbf7e469185f1062386e05a075cadbf6838b74da22bf64b080bc32.99bcd55fc66f4f3360bc49ba472b940b8dcf223ea6a345deb969d607ca900729\n"
     ]
    }
   ],
   "source": [
    "pretrained_weights = 'bert-base-multilingual-cased'\n",
    "tokenizer = BertTokenizer.from_pretrained(pretrained_weights)"
   ]
  },
  {
   "cell_type": "code",
   "execution_count": 4,
   "metadata": {},
   "outputs": [
    {
     "name": "stdout",
     "output_type": "stream",
     "text": [
      "218\n"
     ]
    }
   ],
   "source": [
    "text = \"ABD'nin Kaliforniya eyaletindeki yemek festivalinde düzenlenen silahlı saldırıda \\\n",
    "ilk belirlemelere göre 3 kişi hayatını kaybetti. Saldırgan polisle girdiği çatışmada öldürüldü. \\\n",
    "Görgü tanıkları, saldırganın 30'lu yaşlarda beyaz erkek olduğunu ve yarı otomatik silahla etrafa \\\n",
    "ateş açtığını belirtti. Yerel basındaki görüntülerde silah seslerinin ardından insanların panik \\\n",
    "halinde uzaklaşmaya çalışması yer alıyor. ABD dünyada bireysel silahlanma oranının en yüksek \\\n",
    "olduğu ülkelerden biri. 2017'de düzenlenen bir araştırma Amerikalıların yüzde 40'ının silahlarının \\\n",
    "olduğunu ya da silah olan bir evde yaşadıklarını söylüyorlar. Gelişmiş ülkeler içinde cinayet ya da \\\n",
    "kasıtsız adam öldürmede en yüksek orana sahip ABD'de 2016'da 10 binden fazla kişi silahlı saldırılarda \\\n",
    "öldürülmüştü.\"\n",
    "\n",
    "tokens = tokenizer.tokenize(text)\n",
    "print(len(tokens))"
   ]
  },
  {
   "cell_type": "code",
   "execution_count": 5,
   "metadata": {},
   "outputs": [
    {
     "data": {
      "text/plain": [
       "['ABD',\n",
       " \"'\",\n",
       " 'nin',\n",
       " 'Kali',\n",
       " '##for',\n",
       " '##niya',\n",
       " 'eyaletinde',\n",
       " '##ki',\n",
       " 'ye',\n",
       " '##mek',\n",
       " 'festival',\n",
       " '##inde',\n",
       " 'düzenlenen',\n",
       " 'sila',\n",
       " '##hlı',\n",
       " 'sal',\n",
       " '##dır',\n",
       " '##ıda',\n",
       " 'ilk',\n",
       " 'bel',\n",
       " '##ir',\n",
       " '##leme',\n",
       " '##lere',\n",
       " 'göre',\n",
       " '3',\n",
       " 'kişi',\n",
       " 'haya',\n",
       " '##tını',\n",
       " 'kay',\n",
       " '##bett',\n",
       " '##i',\n",
       " '.',\n",
       " 'Sal',\n",
       " '##dır',\n",
       " '##gan',\n",
       " 'polis',\n",
       " '##le',\n",
       " 'girdi',\n",
       " '##ği',\n",
       " 'ça',\n",
       " '##tı',\n",
       " '##şma',\n",
       " '##da',\n",
       " 'öld',\n",
       " '##ür',\n",
       " '##üldü',\n",
       " '.',\n",
       " 'G',\n",
       " '##ör',\n",
       " '##g',\n",
       " '##ü',\n",
       " 'tan',\n",
       " '##ık',\n",
       " '##ları',\n",
       " ',',\n",
       " 'sal',\n",
       " '##dır',\n",
       " '##gan',\n",
       " '##ın',\n",
       " '30',\n",
       " \"'\",\n",
       " 'lu',\n",
       " 'yaş',\n",
       " '##larda',\n",
       " 'beyaz',\n",
       " 'erkek',\n",
       " 'olduğunu',\n",
       " 've',\n",
       " 'yarı',\n",
       " 'ot',\n",
       " '##oma',\n",
       " '##tik',\n",
       " 'sila',\n",
       " '##hla',\n",
       " 'et',\n",
       " '##raf',\n",
       " '##a',\n",
       " 'at',\n",
       " '##eş',\n",
       " 'a',\n",
       " '##ç',\n",
       " '##tı',\n",
       " '##ğını',\n",
       " 'bel',\n",
       " '##irt',\n",
       " '##ti',\n",
       " '.',\n",
       " 'Yer',\n",
       " '##el',\n",
       " 'bas',\n",
       " '##ındaki',\n",
       " 'gör',\n",
       " '##ün',\n",
       " '##tü',\n",
       " '##lerde',\n",
       " 'sila',\n",
       " '##h',\n",
       " 'ses',\n",
       " '##lerinin',\n",
       " 'ardından']"
      ]
     },
     "execution_count": 5,
     "metadata": {},
     "output_type": "execute_result"
    }
   ],
   "source": [
    "tokens[:100]"
   ]
  },
  {
   "cell_type": "code",
   "execution_count": null,
   "metadata": {},
   "outputs": [],
   "source": []
  }
 ],
 "metadata": {
  "kernelspec": {
   "display_name": "Python 3",
   "language": "python",
   "name": "python3"
  },
  "language_info": {
   "codemirror_mode": {
    "name": "ipython",
    "version": 3
   },
   "file_extension": ".py",
   "mimetype": "text/x-python",
   "name": "python",
   "nbconvert_exporter": "python",
   "pygments_lexer": "ipython3",
   "version": "3.6.5"
  }
 },
 "nbformat": 4,
 "nbformat_minor": 2
}
