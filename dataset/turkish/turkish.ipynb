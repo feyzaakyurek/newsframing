{
 "cells": [
  {
   "cell_type": "code",
   "execution_count": 2,
   "metadata": {},
   "outputs": [],
   "source": [
    "import pandas as pd\n",
    "import os"
   ]
  },
  {
   "cell_type": "code",
   "execution_count": 3,
   "metadata": {},
   "outputs": [],
   "source": [
    "data_dir = \"/projectnb/llamagrp/feyzanb/data/turkish_data\"\n"
   ]
  },
  {
   "cell_type": "code",
   "execution_count": 5,
   "metadata": {},
   "outputs": [],
   "source": [
    "file_names = [\"Posts from 2016-01-01 to 2016-07-07.xls\",\n",
    "              \"Posts from 2017-03-07 to 2017-10-08.xls\",\n",
    "              \"Posts from 2018-02-26 to 2018-06-29.xls\",\n",
    "              \"Posts from 2018-10-28 to 2018-12-31.xls\",\n",
    "              \"Posts from 2016-07-08 to 2017-03-06.xls\",\n",
    "              \"Posts from 2017-10-09 to 2018-02-25.xls\",\n",
    "              \"Posts from 2018-06-30 to 2018-10-27.xls\"]"
   ]
  },
  {
   "cell_type": "code",
   "execution_count": 16,
   "metadata": {},
   "outputs": [
    {
     "name": "stdout",
     "output_type": "stream",
     "text": [
      "Index(['guid', 'headline'], dtype='object')\n",
      "Index(['guid', 'headline'], dtype='object')\n",
      "Index(['guid', 'headline'], dtype='object')\n",
      "Index(['guid', 'headline'], dtype='object')\n",
      "Index(['guid', 'headline'], dtype='object')\n",
      "Index(['guid', 'headline'], dtype='object')\n",
      "Index(['guid', 'headline'], dtype='object')\n",
      "Index(['guid', 'headline'], dtype='object')\n",
      "Index(['guid', 'headline'], dtype='object')\n",
      "Index(['guid', 'headline'], dtype='object')\n",
      "Index(['guid', 'headline'], dtype='object')\n",
      "Index(['guid', 'headline'], dtype='object')\n"
     ]
    }
   ],
   "source": [
    "df = pd.read_excel(os.path.join(data_dir, \"Posts from 2016-01-01 to 2016-07-07.xls\"))\\\n",
    "        .iloc[:,[0,17]]\n",
    "df.columns = [\"guid\", \"headline\"]\n",
    "for f in file_names[1:]:\n",
    "    df_temp = pd.read_excel(os.path.join(data_dir, f)).iloc[:,[0,17]]\n",
    "    df_temp.columns = [\"guid\", \"headline\"]\n",
    "    print(df.columns)\n",
    "    df = pd.concat([df, df_temp])\n",
    "    print(df.columns)\n",
    "    "
   ]
  },
  {
   "cell_type": "code",
   "execution_count": 17,
   "metadata": {},
   "outputs": [
    {
     "data": {
      "text/plain": [
       "Index(['guid', 'headline'], dtype='object')"
      ]
     },
     "execution_count": 17,
     "metadata": {},
     "output_type": "execute_result"
    }
   ],
   "source": [
    "df.columns"
   ]
  },
  {
   "cell_type": "code",
   "execution_count": 18,
   "metadata": {},
   "outputs": [
    {
     "data": {
      "text/plain": [
       "63253"
      ]
     },
     "execution_count": 18,
     "metadata": {},
     "output_type": "execute_result"
    }
   ],
   "source": [
    "len(df)"
   ]
  },
  {
   "cell_type": "code",
   "execution_count": 28,
   "metadata": {},
   "outputs": [
    {
     "name": "stdout",
     "output_type": "stream",
     "text": [
      "Number of headlines including words related to gun violence:  6227\n",
      "Number of headlines including words related to the US:  21854\n",
      "Number of headlines that include at least one from each category:  4229\n"
     ]
    }
   ],
   "source": [
    "search_for_1 = [\"silahlı saldırı\", \"toplu saldırı\", \"saldırgan\", \"rastgele ateş\",\n",
    "                \"toplu silahlı saldırı\", \"silahlı saldırgan dehşet\", \"bireysel silahlanma\",\n",
    "                \"silah kontrolü\", \"toplu katliam\", \"silah yasası\"] \n",
    "search_for_2 = [\"ABD\", \"Amerika\", \"Birleşik Devletler\", \"Trump\"]\n",
    "result_1 = df['headline'].str.contains('|'.join(search_for_1))\n",
    "result_2 = df['headline'].str.contains('|'.join(search_for_2))\n",
    "result = result_1 & result_2\n",
    "\n",
    "print(\"Number of headlines including words related to gun violence: \", result_1.sum())\n",
    "print(\"Number of headlines including words related to the US: \", result_2.sum())\n",
    "print(\"Number of headlines that include at least one from each category: \", result.sum())"
   ]
  },
  {
   "cell_type": "code",
   "execution_count": 29,
   "metadata": {},
   "outputs": [
    {
     "data": {
      "text/html": [
       "<div>\n",
       "<style scoped>\n",
       "    .dataframe tbody tr th:only-of-type {\n",
       "        vertical-align: middle;\n",
       "    }\n",
       "\n",
       "    .dataframe tbody tr th {\n",
       "        vertical-align: top;\n",
       "    }\n",
       "\n",
       "    .dataframe thead th {\n",
       "        text-align: right;\n",
       "    }\n",
       "</style>\n",
       "<table border=\"1\" class=\"dataframe\">\n",
       "  <thead>\n",
       "    <tr style=\"text-align: right;\">\n",
       "      <th></th>\n",
       "      <th>guid</th>\n",
       "      <th>headline</th>\n",
       "    </tr>\n",
       "  </thead>\n",
       "  <tbody>\n",
       "    <tr>\n",
       "      <th>8124</th>\n",
       "      <td>22bb24e4-c331-470c-8737-908c97b76d1b</td>\n",
       "      <td>ABD'de gece kulübüne silahlı saldırı: 1 ölü 14...</td>\n",
       "    </tr>\n",
       "    <tr>\n",
       "      <th>1476</th>\n",
       "      <td>be67edc6-afb6-4df9-a594-a898a545be8c</td>\n",
       "      <td>ABD'deki silahlı saldırıda bilanço çok ağırlaş...</td>\n",
       "    </tr>\n",
       "    <tr>\n",
       "      <th>5925</th>\n",
       "      <td>72389f81-4b08-41a6-80eb-54c8bee7a46e</td>\n",
       "      <td>ABD’nin Pittsburgh kentinde sinagoga silahlı s...</td>\n",
       "    </tr>\n",
       "    <tr>\n",
       "      <th>3958</th>\n",
       "      <td>5b7e5e5e-80a2-4b40-b2d8-e09a8f04de49</td>\n",
       "      <td>ABD’de öğrenciler silah yasasını protesto etti</td>\n",
       "    </tr>\n",
       "    <tr>\n",
       "      <th>5529</th>\n",
       "      <td>1ffe4f24-97ed-49a1-9d70-4db296d51a40</td>\n",
       "      <td>GÜNCELLEME - 2 ABD'de bir sinagoga silahlı sal...</td>\n",
       "    </tr>\n",
       "  </tbody>\n",
       "</table>\n",
       "</div>"
      ],
      "text/plain": [
       "                                      guid  \\\n",
       "8124  22bb24e4-c331-470c-8737-908c97b76d1b   \n",
       "1476  be67edc6-afb6-4df9-a594-a898a545be8c   \n",
       "5925  72389f81-4b08-41a6-80eb-54c8bee7a46e   \n",
       "3958  5b7e5e5e-80a2-4b40-b2d8-e09a8f04de49   \n",
       "5529  1ffe4f24-97ed-49a1-9d70-4db296d51a40   \n",
       "\n",
       "                                               headline  \n",
       "8124  ABD'de gece kulübüne silahlı saldırı: 1 ölü 14...  \n",
       "1476  ABD'deki silahlı saldırıda bilanço çok ağırlaş...  \n",
       "5925  ABD’nin Pittsburgh kentinde sinagoga silahlı s...  \n",
       "3958     ABD’de öğrenciler silah yasasını protesto etti  \n",
       "5529  GÜNCELLEME - 2 ABD'de bir sinagoga silahlı sal...  "
      ]
     },
     "execution_count": 29,
     "metadata": {},
     "output_type": "execute_result"
    }
   ],
   "source": [
    "# export filtered & shuffled data to csv file\n",
    "data_filtered = df.loc[result, ['guid', 'headline']].sample(frac=1, random_state=13)\n",
    "data_filtered.head()\n",
    "# data_filtered_relevant = data.loc[pd.Series(data['Not Relevant'] == 0) & result, \n",
    "#                               ['URL', 'German Headline', 'Not Relevant']].sample(frac=1, random_state=13)\n",
    "\n",
    "# data_filtered.to_csv(r'german_filtered.csv')\n",
    "# data_filtered_relevant.to_csv(r'german_filtered_relevant.csv')"
   ]
  },
  {
   "cell_type": "code",
   "execution_count": 30,
   "metadata": {},
   "outputs": [],
   "source": [
    "data_filtered.to_csv(r'turkish.csv')"
   ]
  },
  {
   "cell_type": "code",
   "execution_count": null,
   "metadata": {},
   "outputs": [],
   "source": []
  }
 ],
 "metadata": {
  "kernelspec": {
   "display_name": "Python 3",
   "language": "python",
   "name": "python3"
  },
  "language_info": {
   "codemirror_mode": {
    "name": "ipython",
    "version": 3
   },
   "file_extension": ".py",
   "mimetype": "text/x-python",
   "name": "python",
   "nbconvert_exporter": "python",
   "pygments_lexer": "ipython3",
   "version": "3.7.3"
  }
 },
 "nbformat": 4,
 "nbformat_minor": 2
}
